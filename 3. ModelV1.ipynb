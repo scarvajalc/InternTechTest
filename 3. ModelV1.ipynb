{
 "cells": [
  {
   "cell_type": "markdown",
   "metadata": {},
   "source": [
    "## Predicting annum average salary from  job_description using LSTM and pre-trained word embeddings"
   ]
  },
  {
   "cell_type": "code",
   "execution_count": 1,
   "metadata": {},
   "outputs": [
    {
     "name": "stderr",
     "output_type": "stream",
     "text": [
      "[nltk_data] Downloading package stopwords to\n",
      "[nltk_data]     C:\\Users\\PC\\AppData\\Roaming\\nltk_data...\n",
      "[nltk_data]   Package stopwords is already up-to-date!\n",
      "[nltk_data] Downloading package punkt to\n",
      "[nltk_data]     C:\\Users\\PC\\AppData\\Roaming\\nltk_data...\n",
      "[nltk_data]   Package punkt is already up-to-date!\n",
      "Using TensorFlow backend.\n"
     ]
    }
   ],
   "source": [
    "import pandas as pd\n",
    "import numpy as np\n",
    "import matplotlib.pyplot as plt\n",
    "import codecs\n",
    "\n",
    "#Preprocessing\n",
    "from sklearn.model_selection import train_test_split\n",
    "from sklearn.preprocessing import MinMaxScaler\n",
    "import nltk\n",
    "from nltk.tokenize import word_tokenize\n",
    "from nltk.corpus import stopwords\n",
    "nltk.download('stopwords')\n",
    "nltk.download('punkt')\n",
    "stop_words = set(stopwords.words('english'))\n",
    "from keras.preprocessing.text import Tokenizer\n",
    "from keras.preprocessing import sequence\n",
    "\n",
    "#Model\n",
    "import tensorflow as tf\n",
    "from tensorflow.keras.layers import Embedding, LSTM, Dense, Dropout, Bidirectional\n",
    "from tensorflow.keras.callbacks import EarlyStopping\n",
    "\n",
    "#Regression metrics\n",
    "from sklearn.metrics import mean_absolute_error, mean_squared_error, r2_score\n",
    "\n",
    "np.random.seed(0)\n",
    "stop_words.update(['.', ',', '\"', \"'\", ':', ';', '(', ')', '[', ']', '{', '}'])"
   ]
  },
  {
   "cell_type": "code",
   "execution_count": 2,
   "metadata": {},
   "outputs": [],
   "source": [
    "def mean_absolute_percentage_error(y_true, y_pred): \n",
    "    mask = y_true != 0\n",
    "    y_true = y_true[mask]\n",
    "    y_pred = y_pred[mask]\n",
    "    y_true, y_pred = np.array(y_true), np.array(y_pred)\n",
    "    return np.mean(np.abs((y_true - y_pred) / y_true)) * 100"
   ]
  },
  {
   "cell_type": "code",
   "execution_count": 3,
   "metadata": {},
   "outputs": [],
   "source": [
    "#laod the dataset\n",
    "df = pd.read_csv(\"data/reed_uk_clean_v3.csv\")"
   ]
  },
  {
   "cell_type": "markdown",
   "metadata": {},
   "source": [
    "First, we are going to pre-process our data  to prepare it for the training process.\n",
    "In the next section we will carry out the following steps:\n",
    "1. We will remove the top 10% of the salaries in order to remove outliers and get a better generalized in the model\n",
    "2. Train-test split, we will use 20% of the data for the final test of the model\n",
    "3. We will use MinMaxScaler from sklearn to scale the annum average salary to a range betewwen 0 and 1. This needs to be done to perform well in the NN training process\n",
    "4. Remove stop words\n",
    "5. Use keras Tokenizer to convert documents into sequences of numbers (tokens)\n",
    "6. All the sequences must be the same length, so we need to calculate a max length for them. We are goin to use the mean plus 1 standard deviation of all document lengths in the training set as max length\n",
    "7. Zero-pad all the word sequences to the max length defined previously \n",
    "8. Load fastText pre-trained word vectors\n",
    "9. Create the embedding matrix to match the tokenized numbers generated in 5 with the wird vectors"
   ]
  },
  {
   "cell_type": "code",
   "execution_count": 4,
   "metadata": {},
   "outputs": [],
   "source": [
    "#1\n",
    "df = df[(df.annum_avg_salary < df.annum_avg_salary.quantile(0.90))  & (df.annum_avg_salary > 0)]"
   ]
  },
  {
   "cell_type": "code",
   "execution_count": 5,
   "metadata": {},
   "outputs": [
    {
     "name": "stdout",
     "output_type": "stream",
     "text": [
      "Number of training data  29451\n",
      "Number of testing data:  7363\n"
     ]
    }
   ],
   "source": [
    "#2\n",
    "train_df, test_df = train_test_split(df, test_size=0.2, random_state=42, shuffle=True)\n",
    "print(\"Number of training data \", train_df.shape[0])\n",
    "print(\"Number of testing data: \", test_df.shape[0])"
   ]
  },
  {
   "cell_type": "code",
   "execution_count": 6,
   "metadata": {},
   "outputs": [],
   "source": [
    "#3\n",
    "y_train = train_df[[\"annum_avg_salary\"]]\n",
    "y_scaler = MinMaxScaler(feature_range=(0,1))\n",
    "y_train = y_scaler.fit_transform(y_train)\n",
    "\n",
    "y_test = test_df[\"annum_avg_salary\"]"
   ]
  },
  {
   "cell_type": "code",
   "execution_count": 7,
   "metadata": {},
   "outputs": [],
   "source": [
    "#4\n",
    "processed_docs_train = []\n",
    "for document in train_df[\"job_description\"].tolist():\n",
    "    word_tokens = word_tokenize(document)\n",
    "    words_clean = [each for each in word_tokens if each not in stop_words]\n",
    "    processed_docs_train.append(\" \".join(words_clean))\n",
    "\n",
    "processed_docs_test = []\n",
    "for document in test_df[\"job_description\"].tolist():\n",
    "    word_tokens = word_tokenize(document)\n",
    "    words_clean = [each for each in word_tokens if each not in stop_words]\n",
    "    processed_docs_test.append(\" \".join(words_clean))"
   ]
  },
  {
   "cell_type": "code",
   "execution_count": 8,
   "metadata": {},
   "outputs": [],
   "source": [
    "#5\n",
    "MAX_NB_WORDS = 100000\n",
    "tokenizer = Tokenizer(num_words=MAX_NB_WORDS, lower=True, char_level=False)\n",
    "tokenizer.fit_on_texts(processed_docs_train + processed_docs_test)  \n",
    "word_seq_train = tokenizer.texts_to_sequences(processed_docs_train)\n",
    "word_seq_test = tokenizer.texts_to_sequences(processed_docs_test)\n",
    "word_index = tokenizer.word_index"
   ]
  },
  {
   "cell_type": "code",
   "execution_count": 9,
   "metadata": {},
   "outputs": [],
   "source": [
    "#6\n",
    "max_seq_len = int(pd.Series([len(i) for i in word_seq_train]).mean() + pd.Series([len(i) for i in word_seq_train]).std())\n",
    "#max_seq_len = 280\n",
    "#MAX_NB_WORDS = 100000\n"
   ]
  },
  {
   "cell_type": "code",
   "execution_count": 10,
   "metadata": {},
   "outputs": [],
   "source": [
    "#7\n",
    "word_seq_train = sequence.pad_sequences(word_seq_train, maxlen=max_seq_len)\n",
    "word_seq_test = sequence.pad_sequences(word_seq_test, maxlen=max_seq_len)"
   ]
  },
  {
   "cell_type": "code",
   "execution_count": 12,
   "metadata": {},
   "outputs": [],
   "source": [
    "#8\n",
    "embeddings_index = {}\n",
    "f = codecs.open('wiki-news-300d-1M.vec', encoding='utf-8')\n",
    "\n",
    "for line in f:\n",
    "    values = line.rstrip().rsplit(' ')\n",
    "    word = values[0]\n",
    "    coefs = np.asarray(values[1:], dtype='float32')\n",
    "    embeddings_index[word] = coefs\n",
    "f.close()"
   ]
  },
  {
   "cell_type": "code",
   "execution_count": 13,
   "metadata": {},
   "outputs": [],
   "source": [
    "#9\n",
    "embed_dim = 300\n",
    "nb_words = min(MAX_NB_WORDS, len(word_index)+1)\n",
    "embedding_matrix = np.zeros((nb_words, embed_dim))\n",
    "for word, i in word_index.items():\n",
    "    if i >= nb_words:\n",
    "        continue\n",
    "    embedding_vector = embeddings_index.get(word)\n",
    "    if (embedding_vector is not None) and len(embedding_vector) > 0:\n",
    "        embedding_matrix[i] = embedding_vector"
   ]
  },
  {
   "cell_type": "markdown",
   "metadata": {},
   "source": [
    "Now, we will build, compile and train the Keras model using LSTM and the Embedding layer with the weights preloaded. The summary of the model can be seen in the next cell.\n"
   ]
  },
  {
   "cell_type": "code",
   "execution_count": 14,
   "metadata": {},
   "outputs": [
    {
     "name": "stdout",
     "output_type": "stream",
     "text": [
      "Model: \"sequential\"\n",
      "_________________________________________________________________\n",
      "Layer (type)                 Output Shape              Param #   \n",
      "=================================================================\n",
      "embedding (Embedding)        (None, 282, 300)          30000000  \n",
      "_________________________________________________________________\n",
      "bidirectional (Bidirectional (None, 256)               439296    \n",
      "_________________________________________________________________\n",
      "dense (Dense)                (None, 64)                16448     \n",
      "_________________________________________________________________\n",
      "dropout (Dropout)            (None, 64)                0         \n",
      "_________________________________________________________________\n",
      "dense_1 (Dense)              (None, 1)                 65        \n",
      "=================================================================\n",
      "Total params: 30,455,809\n",
      "Trainable params: 455,809\n",
      "Non-trainable params: 30,000,000\n",
      "_________________________________________________________________\n"
     ]
    }
   ],
   "source": [
    "\n",
    "model = tf.keras.Sequential()\n",
    "\n",
    "model.add(Embedding(nb_words,embed_dim,input_length=max_seq_len, weights=[embedding_matrix],trainable=False))\n",
    "model.add(Bidirectional(LSTM(128)))\n",
    "model.add(Dense(64,activation='relu'))\n",
    "model.add(Dropout(0.3))\n",
    "model.add(Dense(1,activation='linear'))\n",
    "model.summary()"
   ]
  },
  {
   "cell_type": "code",
   "execution_count": 15,
   "metadata": {},
   "outputs": [],
   "source": [
    "model.compile(loss='mse', optimizer='adam', metrics=['mae'])"
   ]
  },
  {
   "cell_type": "code",
   "execution_count": 16,
   "metadata": {},
   "outputs": [
    {
     "name": "stdout",
     "output_type": "stream",
     "text": [
      "Train on 23560 samples, validate on 5891 samples\n",
      "Epoch 1/12\n",
      "23560/23560 [==============================] - 41s 2ms/sample - loss: 0.0466 - mae: 0.1708 - val_loss: 0.0314 - val_mae: 0.1432\n",
      "Epoch 2/12\n",
      "23560/23560 [==============================] - 31s 1ms/sample - loss: 0.0296 - mae: 0.1358 - val_loss: 0.0267 - val_mae: 0.1373\n",
      "Epoch 3/12\n",
      "23560/23560 [==============================] - 34s 1ms/sample - loss: 0.0236 - mae: 0.1199 - val_loss: 0.0242 - val_mae: 0.1282\n",
      "Epoch 4/12\n",
      "23560/23560 [==============================] - 31s 1ms/sample - loss: 0.0218 - mae: 0.1144 - val_loss: 0.0252 - val_mae: 0.1295\n",
      "Epoch 5/12\n",
      "23560/23560 [==============================] - 31s 1ms/sample - loss: 0.0208 - mae: 0.1111 - val_loss: 0.0215 - val_mae: 0.1213\n",
      "Epoch 6/12\n",
      "23560/23560 [==============================] - 34s 1ms/sample - loss: 0.0202 - mae: 0.1097 - val_loss: 0.0184 - val_mae: 0.1070\n",
      "Epoch 7/12\n",
      "23560/23560 [==============================] - 32s 1ms/sample - loss: 0.0188 - mae: 0.1053 - val_loss: 0.0212 - val_mae: 0.1209\n",
      "Epoch 8/12\n",
      "23560/23560 [==============================] - 33s 1ms/sample - loss: 0.0193 - mae: 0.1069 - val_loss: 0.0218 - val_mae: 0.1162\n",
      "Epoch 9/12\n",
      "23560/23560 [==============================] - 33s 1ms/sample - loss: 0.0179 - mae: 0.1022 - val_loss: 0.0168 - val_mae: 0.1013\n",
      "Epoch 10/12\n",
      "23560/23560 [==============================] - 34s 1ms/sample - loss: 0.0168 - mae: 0.0986 - val_loss: 0.0212 - val_mae: 0.1166\n",
      "Epoch 11/12\n",
      "23560/23560 [==============================] - 33s 1ms/sample - loss: 0.0164 - mae: 0.0975 - val_loss: 0.0161 - val_mae: 0.0959\n",
      "Epoch 12/12\n",
      "23560/23560 [==============================] - 33s 1ms/sample - loss: 0.0154 - mae: 0.0942 - val_loss: 0.0161 - val_mae: 0.0951\n"
     ]
    }
   ],
   "source": [
    "num_epochs = 12\n",
    "\n",
    "es_callback = EarlyStopping(monitor='val_loss', patience=3)\n",
    "\n",
    "history = model.fit(word_seq_train, y_train, batch_size=256,\n",
    "          epochs=num_epochs, validation_split=0.2, callbacks=[es_callback], shuffle=False)"
   ]
  },
  {
   "cell_type": "code",
   "execution_count": 17,
   "metadata": {
    "scrolled": true
   },
   "outputs": [
    {
     "data": {
      "image/png": "[encoded data removed]",
      "text/plain": [
       "<Figure size 432x288 with 1 Axes>"
      ]
     },
     "metadata": {
      "needs_background": "light"
     },
     "output_type": "display_data"
    }
   ],
   "source": [
    "\n",
    "plt.figure()\n",
    "plt.plot(history.history['loss'], label='train')\n",
    "plt.plot(history.history['val_loss'], label='val')\n",
    "plt.title('Learning curve')\n",
    "plt.xlabel('Epochs')\n",
    "plt.ylabel('loss')\n",
    "plt.legend(loc='upper right')\n",
    "plt.show()"
   ]
  },
  {
   "cell_type": "markdown",
   "metadata": {},
   "source": [
    "Finally we will use the trained model to predict on unseeing data (test data) and check the performance using mae, rmse, r2 score and mape metrics"
   ]
  },
  {
   "cell_type": "code",
   "execution_count": 18,
   "metadata": {},
   "outputs": [],
   "source": [
    "pred_scaled = model.predict(word_seq_test)\n",
    "y_pred = y_scaler.inverse_transform(pred_scaled)"
   ]
  },
  {
   "cell_type": "code",
   "execution_count": 19,
   "metadata": {},
   "outputs": [
    {
     "name": "stdout",
     "output_type": "stream",
     "text": [
      "R2 0.33815470582537477\n",
      "MAE 4915.395455720325\n",
      "RMSE 6540.364552724019\n",
      "MAPE 18.97577052693992\n"
     ]
    }
   ],
   "source": [
    "y_pred = y_pred.reshape(-1)\n",
    "y_test_reshaped = y_test.values.reshape(-1)\n",
    "r2 = r2_score(y_pred, y_test_reshaped)\n",
    "mae = mean_absolute_error(y_pred, y_test_reshaped)\n",
    "rmse = np.sqrt(mean_squared_error(y_pred, y_test_reshaped))\n",
    "mape = mean_absolute_percentage_error(y_pred, y_test_reshaped)\n",
    "print(\"R2\", r2)\n",
    "print(\"MAE\", mae)\n",
    "print(\"RMSE\", rmse)\n",
    "print(\"MAPE\", mape)"
   ]
  },
  {
   "cell_type": "markdown",
   "metadata": {},
   "source": [
    "It's a decent model where in average the predictions of the salary are off by around 5,000.\n",
    "\n",
    "We will compare our model with a base model to see if it has any predictive power. To do that we will use a dummy average model as a baseline:"
   ]
  },
  {
   "cell_type": "code",
   "execution_count": 20,
   "metadata": {},
   "outputs": [
    {
     "name": "stdout",
     "output_type": "stream",
     "text": [
      "R2 -4.43129910291692e+29\n",
      "MAE 8039.303965606966\n",
      "RMSE 9686.919452680837\n",
      "MAPE 30.1495116290873\n"
     ]
    }
   ],
   "source": [
    "#dummy model - using the mean as predictions\n",
    "y_pred = np.full(y_test.shape[0], y_test.mean())\n",
    "y_test1 = y_test.values.reshape(-1)\n",
    "r2 = r2_score(y_pred, y_test1)\n",
    "mae = mean_absolute_error(y_pred, y_test1)\n",
    "rmse = np.sqrt(mean_squared_error(y_pred, y_test1))\n",
    "mape = mean_absolute_percentage_error(y_pred, y_test1)\n",
    "print(\"R2\", r2)\n",
    "print(\"MAE\", mae)\n",
    "print(\"RMSE\", rmse)\n",
    "print(\"MAPE\", mape)"
   ]
  },
  {
   "cell_type": "markdown",
   "metadata": {},
   "source": [
    "## Conclusions"
   ]
  },
  {
   "cell_type": "markdown",
   "metadata": {},
   "source": [
    "We can see that it's possible to predict the annum average salaries from job descriptions, the  built model outperforms the base model chosen. This model is far from  perfect but it is a good starting point to start iterating and getting better results. Many more things can be done to improve the model, such as:\n",
    "- Taking into account more variables to train the model will surely improve its performance, variables such as category, city, state, and job type\n",
    "- Make a more subtle and careful text pre-processing process\n",
    "- Maybe lemmatization or stemming could work \n",
    "- Trying different pre-trained word vector such as GloVe\n",
    "- Improve the network architecture\n",
    "- Perform hyperparamter tunning\n",
    "- Add more data\n",
    "\n",
    "This model could be used to predict and show Torre users the approximate salary value for those offers that do not publish the values."
   ]
  },
  {
   "cell_type": "markdown",
   "metadata": {},
   "source": [
    "# Try the model"
   ]
  },
  {
   "cell_type": "code",
   "execution_count": 40,
   "metadata": {},
   "outputs": [],
   "source": [
    "#write a job description and run the following cells\n",
    "job_description = ' Apply now Our client, a thriving Wolverhampton manufacturing business requires a Mechanical Maintenance Engineer (Days 6.00am - 2.30pm) for a Permanent contract. It is essential you are Time-served or similarly qualified in a Mechanical discipline. The successful Mechanical Maintenance Engineer will have over 5 years Mechanical maintenance experience minimum, the ability to work unsupervised and independently, experience of maintaining equipment within a manufacturing environment, have a good work ethic and flexible approach, be time-served or similarly qualified in a Mechanical discipline, with the desirable skills of Gas cutting, welding, pneumatics and hydraulics. Responsibilities of the Mechanical Maintenance Engineer will include; process and plant support, breakdown and preventative maintenance of complex manufacturing equipment, fault finding, identification, specification and implementation equipment or areas for maintenance improvement, ensuring installation and repair duties are carried out safely and efficiently, ensuring effective communication with team, management and operatives to achieve production output and quality standards. The company offer excellent working conditions, onsite parking along with other benefits of working for a large business. Working hours are Days (6.00am - 2.30pm) Monday to Friday Â£12.00 per hour with any weekend overtime paid at Â£16.00 per hour '"
   ]
  },
  {
   "cell_type": "code",
   "execution_count": 41,
   "metadata": {},
   "outputs": [],
   "source": [
    "word_tokens = word_tokenize(job_description)\n",
    "words_clean = [each for each in word_tokens if each not in stop_words]\n",
    "clean_doc = \" \".join(words_clean)\n",
    "word_seq = tokenizer.texts_to_sequences([clean_doc])\n",
    "word_seq = sequence.pad_sequences(word_seq, maxlen=max_seq_len)\n",
    "pred_scaled = model.predict(word_seq)\n",
    "y_pred = y_scaler.inverse_transform(pred_scaled)"
   ]
  },
  {
   "cell_type": "code",
   "execution_count": 42,
   "metadata": {},
   "outputs": [
    {
     "name": "stdout",
     "output_type": "stream",
     "text": [
      "The predicted salary for the job description is 17125\n"
     ]
    }
   ],
   "source": [
    "print(f\"The predicted salary for the job description is {int(y_pred[0][0])}\")"
   ]
  },
  {
   "cell_type": "code",
   "execution_count": null,
   "metadata": {},
   "outputs": [],
   "source": [
    "#saving the keras model\n",
    "model.save('my_model.h5')"
   ]
  }
 ],
 "metadata": {
  "kernelspec": {
   "display_name": "Python 3",
   "language": "python",
   "name": "python3"
  },
  "language_info": {
   "codemirror_mode": {
    "name": "ipython",
    "version": 3
   },
   "file_extension": ".py",
   "mimetype": "text/x-python",
   "name": "python",
   "nbconvert_exporter": "python",
   "pygments_lexer": "ipython3",
   "version": "3.7.3"
  }
 },
 "nbformat": 4,
 "nbformat_minor": 2
}
