{
 "cells": [
  {
   "cell_type": "code",
   "execution_count": 51,
   "metadata": {},
   "outputs": [],
   "source": [
    "import pandas as pd\n",
    "import numpy as np\n",
    "import matplotlib.pyplot as plt"
   ]
  },
  {
   "cell_type": "code",
   "execution_count": 2,
   "metadata": {},
   "outputs": [],
   "source": [
    "df = pd.read_csv(\"data/reed_uk.csv\")"
   ]
  },
  {
   "cell_type": "markdown",
   "metadata": {},
   "source": [
    "Overview of the dataset"
   ]
  },
  {
   "cell_type": "code",
   "execution_count": 3,
   "metadata": {},
   "outputs": [
    {
     "data": {
      "text/html": [
       "<div>\n",
       "<style scoped>\n",
       "    .dataframe tbody tr th:only-of-type {\n",
       "        vertical-align: middle;\n",
       "    }\n",
       "\n",
       "    .dataframe tbody tr th {\n",
       "        vertical-align: top;\n",
       "    }\n",
       "\n",
       "    .dataframe thead th {\n",
       "        text-align: right;\n",
       "    }\n",
       "</style>\n",
       "<table border=\"1\" class=\"dataframe\">\n",
       "  <thead>\n",
       "    <tr style=\"text-align: right;\">\n",
       "      <th></th>\n",
       "      <th>category</th>\n",
       "      <th>city</th>\n",
       "      <th>company_name</th>\n",
       "      <th>geo</th>\n",
       "      <th>job_board</th>\n",
       "      <th>job_description</th>\n",
       "      <th>job_requirements</th>\n",
       "      <th>job_title</th>\n",
       "      <th>job_type</th>\n",
       "      <th>post_date</th>\n",
       "      <th>salary_offered</th>\n",
       "      <th>state</th>\n",
       "    </tr>\n",
       "  </thead>\n",
       "  <tbody>\n",
       "    <tr>\n",
       "      <th>0</th>\n",
       "      <td>catering jobs</td>\n",
       "      <td>Chudleigh</td>\n",
       "      <td>Haulfryn Group</td>\n",
       "      <td>uk</td>\n",
       "      <td>reed</td>\n",
       "      <td>Apply now New opportunity not to be missed! H...</td>\n",
       "      <td>NaN</td>\n",
       "      <td>Commis Chef</td>\n",
       "      <td>Permanent, full-time</td>\n",
       "      <td>3/12/2018</td>\n",
       "      <td>£18,323 per annum</td>\n",
       "      <td>Devon</td>\n",
       "    </tr>\n",
       "    <tr>\n",
       "      <th>1</th>\n",
       "      <td>law jobs</td>\n",
       "      <td>Swindon</td>\n",
       "      <td>Reed</td>\n",
       "      <td>uk</td>\n",
       "      <td>reed</td>\n",
       "      <td>Apply now This role requires an experienced s...</td>\n",
       "      <td>NaN</td>\n",
       "      <td>Corporate Legal Secretary</td>\n",
       "      <td>Permanent, full-time</td>\n",
       "      <td>3/8/2018</td>\n",
       "      <td>£18,000 - £22,000 per annum</td>\n",
       "      <td>Wiltshire</td>\n",
       "    </tr>\n",
       "    <tr>\n",
       "      <th>2</th>\n",
       "      <td>factory jobs</td>\n",
       "      <td>Norfolk</td>\n",
       "      <td>Swanstaff Recruitment Ltd</td>\n",
       "      <td>uk</td>\n",
       "      <td>reed</td>\n",
       "      <td>Apply now Job Title: Warehouse personLocation...</td>\n",
       "      <td>NaN</td>\n",
       "      <td>Warehouse Person</td>\n",
       "      <td>Permanent, full-time</td>\n",
       "      <td>2/27/2018</td>\n",
       "      <td>Salary not specified</td>\n",
       "      <td>East Anglia</td>\n",
       "    </tr>\n",
       "    <tr>\n",
       "      <th>3</th>\n",
       "      <td>law jobs</td>\n",
       "      <td>Hurstpierpoint</td>\n",
       "      <td>Castles Solicitors</td>\n",
       "      <td>uk</td>\n",
       "      <td>reed</td>\n",
       "      <td>Apply now Castles Solicitors are looking for ...</td>\n",
       "      <td>Required skills Admin Case Management Corresp...</td>\n",
       "      <td>Legal Secretary / Admin Assistant</td>\n",
       "      <td>Permanent, full-time or part-time</td>\n",
       "      <td>2/21/2018</td>\n",
       "      <td>£15,000 - £17,000 per annum, pro-rata</td>\n",
       "      <td>West Sussex</td>\n",
       "    </tr>\n",
       "    <tr>\n",
       "      <th>4</th>\n",
       "      <td>factory jobs</td>\n",
       "      <td>Hertfordshire</td>\n",
       "      <td>Marketplace Group</td>\n",
       "      <td>uk</td>\n",
       "      <td>reed</td>\n",
       "      <td>Apply now International Pharmaceutical Manufa...</td>\n",
       "      <td>NaN</td>\n",
       "      <td>Category Planner - Pharmaceutical</td>\n",
       "      <td>Permanent, full-time</td>\n",
       "      <td>3/1/2018</td>\n",
       "      <td>£37,000 - £45,000 per annum</td>\n",
       "      <td>South East England</td>\n",
       "    </tr>\n",
       "  </tbody>\n",
       "</table>\n",
       "</div>"
      ],
      "text/plain": [
       "        category            city                company_name geo job_board  \\\n",
       "0  catering jobs       Chudleigh             Haulfryn Group   uk      reed   \n",
       "1       law jobs         Swindon                       Reed   uk      reed   \n",
       "2   factory jobs         Norfolk  Swanstaff Recruitment Ltd   uk      reed   \n",
       "3       law jobs  Hurstpierpoint         Castles Solicitors   uk      reed   \n",
       "4   factory jobs   Hertfordshire          Marketplace Group   uk      reed   \n",
       "\n",
       "                                     job_description  \\\n",
       "0   Apply now New opportunity not to be missed! H...   \n",
       "1   Apply now This role requires an experienced s...   \n",
       "2   Apply now Job Title: Warehouse personLocation...   \n",
       "3   Apply now Castles Solicitors are looking for ...   \n",
       "4   Apply now International Pharmaceutical Manufa...   \n",
       "\n",
       "                                    job_requirements  \\\n",
       "0                                                NaN   \n",
       "1                                                NaN   \n",
       "2                                                NaN   \n",
       "3   Required skills Admin Case Management Corresp...   \n",
       "4                                                NaN   \n",
       "\n",
       "                           job_title                           job_type  \\\n",
       "0                        Commis Chef               Permanent, full-time   \n",
       "1          Corporate Legal Secretary               Permanent, full-time   \n",
       "2                   Warehouse Person               Permanent, full-time   \n",
       "3  Legal Secretary / Admin Assistant  Permanent, full-time or part-time   \n",
       "4  Category Planner - Pharmaceutical               Permanent, full-time   \n",
       "\n",
       "   post_date                           salary_offered               state  \n",
       "0  3/12/2018                       £18,323 per annum                Devon  \n",
       "1   3/8/2018             £18,000 - £22,000 per annum            Wiltshire  \n",
       "2  2/27/2018                    Salary not specified          East Anglia  \n",
       "3  2/21/2018   £15,000 - £17,000 per annum, pro-rata          West Sussex  \n",
       "4   3/1/2018             £37,000 - £45,000 per annum   South East England  "
      ]
     },
     "execution_count": 3,
     "metadata": {},
     "output_type": "execute_result"
    }
   ],
   "source": [
    "df.head()"
   ]
  },
  {
   "cell_type": "code",
   "execution_count": 4,
   "metadata": {},
   "outputs": [
    {
     "name": "stdout",
     "output_type": "stream",
     "text": [
      "The data has 50000 registers\n"
     ]
    }
   ],
   "source": [
    "print(f\"The data has {df.shape[0]} registers\")"
   ]
  },
  {
   "cell_type": "markdown",
   "metadata": {},
   "source": [
    "Checking the number of unique values and missing values (NaN) for each variable (column)"
   ]
  },
  {
   "cell_type": "code",
   "execution_count": 5,
   "metadata": {},
   "outputs": [
    {
     "data": {
      "text/plain": [
       "category               37\n",
       "city                 2918\n",
       "company_name         5166\n",
       "geo                     1\n",
       "job_board               1\n",
       "job_description     42057\n",
       "job_requirements    14887\n",
       "job_title           29155\n",
       "job_type                9\n",
       "post_date              66\n",
       "salary_offered       7345\n",
       "state                 167\n",
       "dtype: int64"
      ]
     },
     "execution_count": 5,
     "metadata": {},
     "output_type": "execute_result"
    }
   ],
   "source": [
    "df.nunique()"
   ]
  },
  {
   "cell_type": "code",
   "execution_count": 6,
   "metadata": {},
   "outputs": [
    {
     "data": {
      "text/plain": [
       "category                0\n",
       "city                    0\n",
       "company_name            0\n",
       "geo                     0\n",
       "job_board               0\n",
       "job_description         0\n",
       "job_requirements    29452\n",
       "job_title               0\n",
       "job_type                0\n",
       "post_date               0\n",
       "salary_offered          0\n",
       "state                  20\n",
       "dtype: int64"
      ]
     },
     "execution_count": 6,
     "metadata": {},
     "output_type": "execute_result"
    }
   ],
   "source": [
    "#Missing values for each variable\n",
    "df.isna().sum()"
   ]
  },
  {
   "cell_type": "markdown",
   "metadata": {},
   "source": [
    "We can see that more than half of the data doesn't have the job_requirements value"
   ]
  },
  {
   "cell_type": "markdown",
   "metadata": {},
   "source": [
    "Job type unique values"
   ]
  },
  {
   "cell_type": "code",
   "execution_count": 7,
   "metadata": {},
   "outputs": [
    {
     "data": {
      "text/plain": [
       "array(['Permanent, full-time', 'Permanent, full-time or part-time',\n",
       "       'Permanent, part-time', 'Contract, full-time',\n",
       "       'Temporary, part-time', 'Temporary, full-time or part-time',\n",
       "       'Temporary, full-time', 'Contract, full-time or part-time',\n",
       "       'Contract, part-time'], dtype=object)"
      ]
     },
     "execution_count": 7,
     "metadata": {},
     "output_type": "execute_result"
    }
   ],
   "source": [
    "df.job_type.unique()"
   ]
  },
  {
   "cell_type": "code",
   "execution_count": 8,
   "metadata": {},
   "outputs": [
    {
     "data": {
      "text/plain": [
       "array(['catering jobs', 'law jobs', 'factory jobs', 'retail jobs',\n",
       "       'motoring automotive jobs', 'hr jobs', 'marketing jobs',\n",
       "       'estate agent jobs', 'customer service jobs',\n",
       "       'accountancy qualified jobs', 'health jobs', 'logistics jobs',\n",
       "       'finance jobs', 'social care jobs', 'recruitment consultancy jobs',\n",
       "       'construction property jobs', 'engineering jobs',\n",
       "       'admin secretarial pa jobs', 'accountancy jobs', 'sales jobs',\n",
       "       'it jobs', 'education jobs', 'other jobs', 'security safety jobs',\n",
       "       'energy jobs', 'apprenticeships jobs', 'training jobs',\n",
       "       'charity jobs', 'strategy consultancy jobs', 'banking jobs',\n",
       "       'purchasing jobs', 'fmcg jobs', 'leisure tourism jobs',\n",
       "       'science jobs', 'graduate training internships jobs',\n",
       "       'general insurance jobs', 'media digital creative jobs'],\n",
       "      dtype=object)"
      ]
     },
     "execution_count": 8,
     "metadata": {},
     "output_type": "execute_result"
    }
   ],
   "source": [
    "df.category.unique()"
   ]
  },
  {
   "cell_type": "markdown",
   "metadata": {},
   "source": [
    "Salary_offered variable analysis "
   ]
  },
  {
   "cell_type": "code",
   "execution_count": 9,
   "metadata": {},
   "outputs": [
    {
     "data": {
      "text/plain": [
       "9031"
      ]
     },
     "execution_count": 9,
     "metadata": {},
     "output_type": "execute_result"
    }
   ],
   "source": [
    "#Number of offers without the £ symbol\n",
    "(~df.salary_offered.str.contains(\"£\")).sum()"
   ]
  },
  {
   "cell_type": "code",
   "execution_count": 10,
   "metadata": {},
   "outputs": [
    {
     "data": {
      "text/plain": [
       " Salary negotiable                                  4539\n",
       " Competitive salary                                 3998\n",
       " Salary not specified                                317\n",
       " Commission only                                      29\n",
       " ‚¬45,000 - ‚¬55,000 per annum                         7\n",
       "                                                    ... \n",
       " up to ‚¬39.00 per hour                                1\n",
       " ‚¬51,549 per annum                                    1\n",
       " ‚¬60,000 - ‚¬70,000 per annum, negotiable, OTE        1\n",
       " ‚¬11.40 per hour                                      1\n",
       " ‚¬25,000 - ‚¬26,600 per annum                         1\n",
       "Name: salary_offered, Length: 103, dtype: int64"
      ]
     },
     "execution_count": 10,
     "metadata": {},
     "output_type": "execute_result"
    }
   ],
   "source": [
    "#Unique values and their count in the offers without the £ symbol\n",
    "df[~df.salary_offered.str.contains(\"£\")].salary_offered.value_counts()"
   ]
  },
  {
   "cell_type": "markdown",
   "metadata": {},
   "source": [
    "We can see that most of the job offers without the £ symbol in the salary corresponds to offers that doesn't publish the value of the salary (8883 out of 9031) instead they publish some generic text like Salary negotiable, Competitive salary, Salary not specified or Commission only. The remaining 148 offers in this group use a different currency.\n",
    "So we proceed to discard the offers without the £ symbol in the salary."
   ]
  },
  {
   "cell_type": "code",
   "execution_count": 11,
   "metadata": {},
   "outputs": [],
   "source": [
    "df2 = df[df.salary_offered.str.contains(\"£\")].reset_index(drop=True).copy()"
   ]
  },
  {
   "cell_type": "code",
   "execution_count": 12,
   "metadata": {},
   "outputs": [
    {
     "data": {
      "text/plain": [
       "40969"
      ]
     },
     "execution_count": 12,
     "metadata": {},
     "output_type": "execute_result"
    }
   ],
   "source": [
    "len(df2)"
   ]
  },
  {
   "cell_type": "markdown",
   "metadata": {},
   "source": [
    "40969 offers remaining"
   ]
  },
  {
   "cell_type": "code",
   "execution_count": 13,
   "metadata": {},
   "outputs": [
    {
     "data": {
      "text/plain": [
       " £30,000 - £35,000 per annum                        633\n",
       " £25,000 - £30,000 per annum                        569\n",
       " £35,000 - £40,000 per annum                        488\n",
       " £20,000 - £25,000 per annum                        487\n",
       " £7.50 per hour                                     477\n",
       "                                                   ... \n",
       " £9,750 per annum, inc benefits                       1\n",
       " £43,807 - £48,265 per annum, pro-rata                1\n",
       " £41,502 - £44,454 per annum                          1\n",
       " £18,000 - £21,500 per annum, inc benefits, OTE       1\n",
       " £44,000 - £59,000 per annum                          1\n",
       "Name: salary_offered, Length: 7242, dtype: int64"
      ]
     },
     "execution_count": 13,
     "metadata": {},
     "output_type": "execute_result"
    }
   ],
   "source": [
    "#Unique values and their count in the salary of the remaining offers \n",
    "df2.salary_offered.value_counts()"
   ]
  },
  {
   "cell_type": "markdown",
   "metadata": {},
   "source": [
    "We want to get a unique value of the salary for each offer (those values must be comparable), but we found that some of the offers have a range of values and the periodicity of the salaries varies across the offers (annum, day, hour).\n",
    "\n",
    "Next we are going to process the salary variable to obtain a single annum value for each offer"
   ]
  },
  {
   "cell_type": "code",
   "execution_count": 14,
   "metadata": {},
   "outputs": [
    {
     "data": {
      "text/plain": [
       "40969"
      ]
     },
     "execution_count": 14,
     "metadata": {},
     "output_type": "execute_result"
    }
   ],
   "source": [
    "#Every offer contains the word per, this is key\n",
    "df2.salary_offered.str.contains(\"per\").sum()"
   ]
  },
  {
   "cell_type": "code",
   "execution_count": 15,
   "metadata": {},
   "outputs": [],
   "source": [
    "#df2.salary_offered.str.extract(r\"(per.*)\")[0].value_counts()"
   ]
  },
  {
   "cell_type": "code",
   "execution_count": 16,
   "metadata": {},
   "outputs": [],
   "source": [
    "#Splitting the original salary variable into min_salary, max_salary and periodicity\n",
    "salary_processing_df = df2.salary_offered.str.extract(\n",
    "    r\"(?P<min_salary>£.*)?(?P<max_salary>£.*)(?P<per>per )(?P<periodicity>annum|day|hour)\"\n",
    ").drop(columns=[\"per\"])"
   ]
  },
  {
   "cell_type": "code",
   "execution_count": 17,
   "metadata": {},
   "outputs": [],
   "source": [
    "#Converting from str to numerical\n",
    "salary_processing_df[\"min_salary\"] = salary_processing_df[\"min_salary\"].str.extract(r\"([0-9][0-9,\\.]*)\", expand=False).str.replace(',', '').astype(float)\n",
    "salary_processing_df[\"max_salary\"] = salary_processing_df[\"max_salary\"].str.extract(r\"([0-9][0-9,\\.]*)\", expand=False).str.replace(',', '').astype(float)"
   ]
  },
  {
   "cell_type": "code",
   "execution_count": 19,
   "metadata": {},
   "outputs": [],
   "source": [
    "#Calculating the annum avg salary\n",
    "#sources \n",
    "#working hours: https://clockify.me/working-hours\n",
    "#working days: https://hello-safe.co.uk/business-insurance/tools/working-days-calculator#:~:text=How%20many%20days%20are%20in,256%20working%20days\n",
    "uk_working_days = 256\n",
    "uk_working_hours = 1670\n",
    "\n",
    "def get_annum_avg_salary(row):\n",
    "    avg_salary = np.nanmean(np.array([row[\"min_salary\"], row[\"max_salary\"]]))\n",
    "    if row[\"periodicity\"] == \"day\":\n",
    "        avg_salary *= uk_working_days\n",
    "    if row[\"periodicity\"] == \"hour\":\n",
    "        avg_salary *= uk_working_hours\n",
    "    return avg_salary\n",
    "\n",
    "salary_processing_df[\"annum_avg_salary\"] = salary_processing_df.apply(get_annum_avg_salary, axis=1)"
   ]
  },
  {
   "cell_type": "code",
   "execution_count": 20,
   "metadata": {},
   "outputs": [
    {
     "data": {
      "text/html": [
       "<div>\n",
       "<style scoped>\n",
       "    .dataframe tbody tr th:only-of-type {\n",
       "        vertical-align: middle;\n",
       "    }\n",
       "\n",
       "    .dataframe tbody tr th {\n",
       "        vertical-align: top;\n",
       "    }\n",
       "\n",
       "    .dataframe thead th {\n",
       "        text-align: right;\n",
       "    }\n",
       "</style>\n",
       "<table border=\"1\" class=\"dataframe\">\n",
       "  <thead>\n",
       "    <tr style=\"text-align: right;\">\n",
       "      <th></th>\n",
       "      <th>category</th>\n",
       "      <th>city</th>\n",
       "      <th>company_name</th>\n",
       "      <th>geo</th>\n",
       "      <th>job_board</th>\n",
       "      <th>job_description</th>\n",
       "      <th>job_requirements</th>\n",
       "      <th>job_title</th>\n",
       "      <th>job_type</th>\n",
       "      <th>post_date</th>\n",
       "      <th>salary_offered</th>\n",
       "      <th>state</th>\n",
       "      <th>min_salary</th>\n",
       "      <th>max_salary</th>\n",
       "      <th>periodicity</th>\n",
       "      <th>annum_avg_salary</th>\n",
       "    </tr>\n",
       "  </thead>\n",
       "  <tbody>\n",
       "    <tr>\n",
       "      <th>0</th>\n",
       "      <td>catering jobs</td>\n",
       "      <td>Chudleigh</td>\n",
       "      <td>Haulfryn Group</td>\n",
       "      <td>uk</td>\n",
       "      <td>reed</td>\n",
       "      <td>Apply now New opportunity not to be missed! H...</td>\n",
       "      <td>NaN</td>\n",
       "      <td>Commis Chef</td>\n",
       "      <td>Permanent, full-time</td>\n",
       "      <td>3/12/2018</td>\n",
       "      <td>£18,323 per annum</td>\n",
       "      <td>Devon</td>\n",
       "      <td>NaN</td>\n",
       "      <td>18323.0</td>\n",
       "      <td>annum</td>\n",
       "      <td>18323.0</td>\n",
       "    </tr>\n",
       "    <tr>\n",
       "      <th>1</th>\n",
       "      <td>law jobs</td>\n",
       "      <td>Swindon</td>\n",
       "      <td>Reed</td>\n",
       "      <td>uk</td>\n",
       "      <td>reed</td>\n",
       "      <td>Apply now This role requires an experienced s...</td>\n",
       "      <td>NaN</td>\n",
       "      <td>Corporate Legal Secretary</td>\n",
       "      <td>Permanent, full-time</td>\n",
       "      <td>3/8/2018</td>\n",
       "      <td>£18,000 - £22,000 per annum</td>\n",
       "      <td>Wiltshire</td>\n",
       "      <td>18000.0</td>\n",
       "      <td>22000.0</td>\n",
       "      <td>annum</td>\n",
       "      <td>20000.0</td>\n",
       "    </tr>\n",
       "    <tr>\n",
       "      <th>2</th>\n",
       "      <td>law jobs</td>\n",
       "      <td>Hurstpierpoint</td>\n",
       "      <td>Castles Solicitors</td>\n",
       "      <td>uk</td>\n",
       "      <td>reed</td>\n",
       "      <td>Apply now Castles Solicitors are looking for ...</td>\n",
       "      <td>Required skills Admin Case Management Corresp...</td>\n",
       "      <td>Legal Secretary / Admin Assistant</td>\n",
       "      <td>Permanent, full-time or part-time</td>\n",
       "      <td>2/21/2018</td>\n",
       "      <td>£15,000 - £17,000 per annum, pro-rata</td>\n",
       "      <td>West Sussex</td>\n",
       "      <td>15000.0</td>\n",
       "      <td>17000.0</td>\n",
       "      <td>annum</td>\n",
       "      <td>16000.0</td>\n",
       "    </tr>\n",
       "    <tr>\n",
       "      <th>3</th>\n",
       "      <td>factory jobs</td>\n",
       "      <td>Hertfordshire</td>\n",
       "      <td>Marketplace Group</td>\n",
       "      <td>uk</td>\n",
       "      <td>reed</td>\n",
       "      <td>Apply now International Pharmaceutical Manufa...</td>\n",
       "      <td>NaN</td>\n",
       "      <td>Category Planner - Pharmaceutical</td>\n",
       "      <td>Permanent, full-time</td>\n",
       "      <td>3/1/2018</td>\n",
       "      <td>£37,000 - £45,000 per annum</td>\n",
       "      <td>South East England</td>\n",
       "      <td>37000.0</td>\n",
       "      <td>45000.0</td>\n",
       "      <td>annum</td>\n",
       "      <td>41000.0</td>\n",
       "    </tr>\n",
       "    <tr>\n",
       "      <th>4</th>\n",
       "      <td>retail jobs</td>\n",
       "      <td>Belfast</td>\n",
       "      <td>Vodafone</td>\n",
       "      <td>uk</td>\n",
       "      <td>reed</td>\n",
       "      <td>Apply on employer's website Retail Advisor - ...</td>\n",
       "      <td>NaN</td>\n",
       "      <td>Retail Adviser 20hrs/week - Belfast Donnegal P...</td>\n",
       "      <td>Permanent, part-time</td>\n",
       "      <td>3/12/2018</td>\n",
       "      <td>£9,100 - £9,152 per annum, OTE</td>\n",
       "      <td>County Antrim</td>\n",
       "      <td>9100.0</td>\n",
       "      <td>9152.0</td>\n",
       "      <td>annum</td>\n",
       "      <td>9126.0</td>\n",
       "    </tr>\n",
       "  </tbody>\n",
       "</table>\n",
       "</div>"
      ],
      "text/plain": [
       "        category            city         company_name geo job_board  \\\n",
       "0  catering jobs       Chudleigh      Haulfryn Group   uk      reed   \n",
       "1       law jobs         Swindon                Reed   uk      reed   \n",
       "2       law jobs  Hurstpierpoint  Castles Solicitors   uk      reed   \n",
       "3   factory jobs   Hertfordshire   Marketplace Group   uk      reed   \n",
       "4    retail jobs         Belfast            Vodafone   uk      reed   \n",
       "\n",
       "                                     job_description  \\\n",
       "0   Apply now New opportunity not to be missed! H...   \n",
       "1   Apply now This role requires an experienced s...   \n",
       "2   Apply now Castles Solicitors are looking for ...   \n",
       "3   Apply now International Pharmaceutical Manufa...   \n",
       "4   Apply on employer's website Retail Advisor - ...   \n",
       "\n",
       "                                    job_requirements  \\\n",
       "0                                                NaN   \n",
       "1                                                NaN   \n",
       "2   Required skills Admin Case Management Corresp...   \n",
       "3                                                NaN   \n",
       "4                                                NaN   \n",
       "\n",
       "                                           job_title  \\\n",
       "0                                        Commis Chef   \n",
       "1                          Corporate Legal Secretary   \n",
       "2                  Legal Secretary / Admin Assistant   \n",
       "3                  Category Planner - Pharmaceutical   \n",
       "4  Retail Adviser 20hrs/week - Belfast Donnegal P...   \n",
       "\n",
       "                            job_type  post_date  \\\n",
       "0               Permanent, full-time  3/12/2018   \n",
       "1               Permanent, full-time   3/8/2018   \n",
       "2  Permanent, full-time or part-time  2/21/2018   \n",
       "3               Permanent, full-time   3/1/2018   \n",
       "4               Permanent, part-time  3/12/2018   \n",
       "\n",
       "                            salary_offered               state  min_salary  \\\n",
       "0                       £18,323 per annum                Devon         NaN   \n",
       "1             £18,000 - £22,000 per annum            Wiltshire     18000.0   \n",
       "2   £15,000 - £17,000 per annum, pro-rata          West Sussex     15000.0   \n",
       "3             £37,000 - £45,000 per annum   South East England     37000.0   \n",
       "4          £9,100 - £9,152 per annum, OTE        County Antrim      9100.0   \n",
       "\n",
       "   max_salary periodicity  annum_avg_salary  \n",
       "0     18323.0       annum           18323.0  \n",
       "1     22000.0       annum           20000.0  \n",
       "2     17000.0       annum           16000.0  \n",
       "3     45000.0       annum           41000.0  \n",
       "4      9152.0       annum            9126.0  "
      ]
     },
     "execution_count": 20,
     "metadata": {},
     "output_type": "execute_result"
    }
   ],
   "source": [
    "#mergin the new values calculated and the original data\n",
    "df2 = pd.concat([df2, salary_processing_df], axis=1)\n",
    "df2.head()"
   ]
  },
  {
   "cell_type": "code",
   "execution_count": 22,
   "metadata": {},
   "outputs": [
    {
     "data": {
      "text/plain": [
       "<matplotlib.axes._subplots.AxesSubplot at 0x1f287c280b8>"
      ]
     },
     "execution_count": 22,
     "metadata": {},
     "output_type": "execute_result"
    },
    {
     "data": {
      "image/png": "[encoded data removed]",
      "text/plain": [
       "<Figure size 432x288 with 1 Axes>"
      ]
     },
     "metadata": {
      "needs_background": "light"
     },
     "output_type": "display_data"
    }
   ],
   "source": [
    "#Plotting the histogram of the annum average salary\n",
    "df2.annum_avg_salary.hist()"
   ]
  },
  {
   "cell_type": "code",
   "execution_count": 23,
   "metadata": {},
   "outputs": [
    {
     "data": {
      "text/plain": [
       "count       40969.000000\n",
       "mean        40014.862042\n",
       "std        614380.483834\n",
       "min             0.000000\n",
       "25%         19500.000000\n",
       "50%         27000.000000\n",
       "75%         37500.000000\n",
       "max      54275000.000000\n",
       "Name: annum_avg_salary, dtype: object"
      ]
     },
     "execution_count": 23,
     "metadata": {},
     "output_type": "execute_result"
    }
   ],
   "source": [
    "df2.annum_avg_salary.describe().apply(lambda x: format(x, 'f'))"
   ]
  },
  {
   "cell_type": "markdown",
   "metadata": {},
   "source": [
    "There are really huge values that seem wrong. This suggests some inconsistency in the data that we are going to verify next."
   ]
  },
  {
   "cell_type": "code",
   "execution_count": 37,
   "metadata": {},
   "outputs": [],
   "source": [
    "pd.reset_option('display.max_colwidth')"
   ]
  },
  {
   "cell_type": "code",
   "execution_count": 38,
   "metadata": {},
   "outputs": [
    {
     "data": {
      "text/html": [
       "<div>\n",
       "<style scoped>\n",
       "    .dataframe tbody tr th:only-of-type {\n",
       "        vertical-align: middle;\n",
       "    }\n",
       "\n",
       "    .dataframe tbody tr th {\n",
       "        vertical-align: top;\n",
       "    }\n",
       "\n",
       "    .dataframe thead th {\n",
       "        text-align: right;\n",
       "    }\n",
       "</style>\n",
       "<table border=\"1\" class=\"dataframe\">\n",
       "  <thead>\n",
       "    <tr style=\"text-align: right;\">\n",
       "      <th></th>\n",
       "      <th>category</th>\n",
       "      <th>city</th>\n",
       "      <th>company_name</th>\n",
       "      <th>geo</th>\n",
       "      <th>job_board</th>\n",
       "      <th>job_description</th>\n",
       "      <th>job_requirements</th>\n",
       "      <th>job_title</th>\n",
       "      <th>job_type</th>\n",
       "      <th>post_date</th>\n",
       "      <th>salary_offered</th>\n",
       "      <th>state</th>\n",
       "      <th>min_salary</th>\n",
       "      <th>max_salary</th>\n",
       "      <th>periodicity</th>\n",
       "      <th>annum_avg_salary</th>\n",
       "    </tr>\n",
       "  </thead>\n",
       "  <tbody>\n",
       "    <tr>\n",
       "      <th>17380</th>\n",
       "      <td>strategy consultancy jobs</td>\n",
       "      <td>South West England</td>\n",
       "      <td>Execuitve Resource Group</td>\n",
       "      <td>uk</td>\n",
       "      <td>reed</td>\n",
       "      <td>Apply now Director - Finance - Procurement - ...</td>\n",
       "      <td>Required skills Director of Finance and Procu...</td>\n",
       "      <td>Director of Finance and Procurement</td>\n",
       "      <td>Contract, full-time</td>\n",
       "      <td>3/9/2018</td>\n",
       "      <td>£750.00 - £825.00 per day</td>\n",
       "      <td>England</td>\n",
       "      <td>750.0</td>\n",
       "      <td>825.0</td>\n",
       "      <td>day</td>\n",
       "      <td>201600.0</td>\n",
       "    </tr>\n",
       "    <tr>\n",
       "      <th>39245</th>\n",
       "      <td>strategy consultancy jobs</td>\n",
       "      <td>South West England</td>\n",
       "      <td>Execuitve Resource Group</td>\n",
       "      <td>uk</td>\n",
       "      <td>reed</td>\n",
       "      <td>Apply now Director - Finance - Procurement - ...</td>\n",
       "      <td>Required skills Director of Finance and Procu...</td>\n",
       "      <td>Director of Finance and Procurement</td>\n",
       "      <td>Contract, full-time</td>\n",
       "      <td>3/9/2018</td>\n",
       "      <td>£750.00 - £825.00 per day</td>\n",
       "      <td>England</td>\n",
       "      <td>750.0</td>\n",
       "      <td>825.0</td>\n",
       "      <td>day</td>\n",
       "      <td>201600.0</td>\n",
       "    </tr>\n",
       "    <tr>\n",
       "      <th>37996</th>\n",
       "      <td>strategy consultancy jobs</td>\n",
       "      <td>South West England</td>\n",
       "      <td>Execuitve Resource Group</td>\n",
       "      <td>uk</td>\n",
       "      <td>reed</td>\n",
       "      <td>Apply now Director - Finance - Procurement - ...</td>\n",
       "      <td>Required skills Director of Finance and Procu...</td>\n",
       "      <td>Director of Finance and Procurement</td>\n",
       "      <td>Contract, full-time</td>\n",
       "      <td>3/9/2018</td>\n",
       "      <td>£750.00 - £825.00 per day</td>\n",
       "      <td>England</td>\n",
       "      <td>750.0</td>\n",
       "      <td>825.0</td>\n",
       "      <td>day</td>\n",
       "      <td>201600.0</td>\n",
       "    </tr>\n",
       "    <tr>\n",
       "      <th>14167</th>\n",
       "      <td>it jobs</td>\n",
       "      <td>City of London</td>\n",
       "      <td>SmartTasking.com</td>\n",
       "      <td>uk</td>\n",
       "      <td>reed</td>\n",
       "      <td>Apply now IT Program Director | Central Londo...</td>\n",
       "      <td>Required skills Portfolio Management Program ...</td>\n",
       "      <td>IT Program Director</td>\n",
       "      <td>Contract, full-time</td>\n",
       "      <td>3/12/2018</td>\n",
       "      <td>£750.00 - £850.00 per day</td>\n",
       "      <td>London</td>\n",
       "      <td>750.0</td>\n",
       "      <td>850.0</td>\n",
       "      <td>day</td>\n",
       "      <td>204800.0</td>\n",
       "    </tr>\n",
       "    <tr>\n",
       "      <th>17277</th>\n",
       "      <td>banking jobs</td>\n",
       "      <td>City Of London</td>\n",
       "      <td>Eames Consulting Group</td>\n",
       "      <td>uk</td>\n",
       "      <td>reed</td>\n",
       "      <td>Apply now Senior Quantitative Analyst - Equit...</td>\n",
       "      <td>Required skills C++ FX Options developer fron...</td>\n",
       "      <td>Senior Quantitiave Analyst - Equity and model ...</td>\n",
       "      <td>Contract, full-time</td>\n",
       "      <td>2/23/2018</td>\n",
       "      <td>£600.00 - £1,000.00 per day</td>\n",
       "      <td>London</td>\n",
       "      <td>600.0</td>\n",
       "      <td>1000.0</td>\n",
       "      <td>day</td>\n",
       "      <td>204800.0</td>\n",
       "    </tr>\n",
       "    <tr>\n",
       "      <th>...</th>\n",
       "      <td>...</td>\n",
       "      <td>...</td>\n",
       "      <td>...</td>\n",
       "      <td>...</td>\n",
       "      <td>...</td>\n",
       "      <td>...</td>\n",
       "      <td>...</td>\n",
       "      <td>...</td>\n",
       "      <td>...</td>\n",
       "      <td>...</td>\n",
       "      <td>...</td>\n",
       "      <td>...</td>\n",
       "      <td>...</td>\n",
       "      <td>...</td>\n",
       "      <td>...</td>\n",
       "      <td>...</td>\n",
       "    </tr>\n",
       "    <tr>\n",
       "      <th>23679</th>\n",
       "      <td>hr jobs</td>\n",
       "      <td>Tunbridge Wells</td>\n",
       "      <td>Reed Human Resources</td>\n",
       "      <td>uk</td>\n",
       "      <td>reed</td>\n",
       "      <td>Apply now ** Recruitment Advisors Wanted **Re...</td>\n",
       "      <td>NaN</td>\n",
       "      <td>Resourcing Advisor</td>\n",
       "      <td>Temporary, full-time</td>\n",
       "      <td>3/6/2018</td>\n",
       "      <td>£23,000.00 - £32,000.00 per hour</td>\n",
       "      <td>Kent</td>\n",
       "      <td>23000.0</td>\n",
       "      <td>32000.0</td>\n",
       "      <td>hour</td>\n",
       "      <td>45925000.0</td>\n",
       "    </tr>\n",
       "    <tr>\n",
       "      <th>21806</th>\n",
       "      <td>hr jobs</td>\n",
       "      <td>Maidstone</td>\n",
       "      <td>Reed Human Resources</td>\n",
       "      <td>uk</td>\n",
       "      <td>reed</td>\n",
       "      <td>Apply now ** Recruitment Advisors Wanted **Re...</td>\n",
       "      <td>NaN</td>\n",
       "      <td>Resourcing Advisor</td>\n",
       "      <td>Temporary, full-time</td>\n",
       "      <td>3/6/2018</td>\n",
       "      <td>£23,000.00 - £32,000.00 per hour</td>\n",
       "      <td>Kent</td>\n",
       "      <td>23000.0</td>\n",
       "      <td>32000.0</td>\n",
       "      <td>hour</td>\n",
       "      <td>45925000.0</td>\n",
       "    </tr>\n",
       "    <tr>\n",
       "      <th>15214</th>\n",
       "      <td>education jobs</td>\n",
       "      <td>Bradford</td>\n",
       "      <td>Reed Education</td>\n",
       "      <td>uk</td>\n",
       "      <td>reed</td>\n",
       "      <td>Apply now As a Key Stage 2 class teacher you ...</td>\n",
       "      <td>NaN</td>\n",
       "      <td>Primary School Teacher</td>\n",
       "      <td>Temporary, full-time</td>\n",
       "      <td>3/8/2018</td>\n",
       "      <td>£22,000.00 - £38,000.00 per hour</td>\n",
       "      <td>West Yorkshire</td>\n",
       "      <td>22000.0</td>\n",
       "      <td>38000.0</td>\n",
       "      <td>hour</td>\n",
       "      <td>50100000.0</td>\n",
       "    </tr>\n",
       "    <tr>\n",
       "      <th>14867</th>\n",
       "      <td>education jobs</td>\n",
       "      <td>Bradford</td>\n",
       "      <td>Reed Education</td>\n",
       "      <td>uk</td>\n",
       "      <td>reed</td>\n",
       "      <td>Apply now Key Stage 1 Class Teacher required ...</td>\n",
       "      <td>NaN</td>\n",
       "      <td>Key Stage One Class Teacher | September 2018 |</td>\n",
       "      <td>Temporary, full-time</td>\n",
       "      <td>3/8/2018</td>\n",
       "      <td>£22,000.00 - £38,000.00 per hour</td>\n",
       "      <td>West Yorkshire</td>\n",
       "      <td>22000.0</td>\n",
       "      <td>38000.0</td>\n",
       "      <td>hour</td>\n",
       "      <td>50100000.0</td>\n",
       "    </tr>\n",
       "    <tr>\n",
       "      <th>20776</th>\n",
       "      <td>hr jobs</td>\n",
       "      <td>Canterbury</td>\n",
       "      <td>Reed Human Resources</td>\n",
       "      <td>uk</td>\n",
       "      <td>reed</td>\n",
       "      <td>Apply now HR Advisors needed for temporary/co...</td>\n",
       "      <td>NaN</td>\n",
       "      <td>HR Advisor</td>\n",
       "      <td>Temporary, full-time</td>\n",
       "      <td>3/6/2018</td>\n",
       "      <td>£30,000.00 - £35,000.00 per hour</td>\n",
       "      <td>Kent</td>\n",
       "      <td>30000.0</td>\n",
       "      <td>35000.0</td>\n",
       "      <td>hour</td>\n",
       "      <td>54275000.0</td>\n",
       "    </tr>\n",
       "  </tbody>\n",
       "</table>\n",
       "<p>81 rows × 16 columns</p>\n",
       "</div>"
      ],
      "text/plain": [
       "                        category                city  \\\n",
       "17380  strategy consultancy jobs  South West England   \n",
       "39245  strategy consultancy jobs  South West England   \n",
       "37996  strategy consultancy jobs  South West England   \n",
       "14167                    it jobs      City of London   \n",
       "17277               banking jobs      City Of London   \n",
       "...                          ...                 ...   \n",
       "23679                    hr jobs     Tunbridge Wells   \n",
       "21806                    hr jobs           Maidstone   \n",
       "15214             education jobs            Bradford   \n",
       "14867             education jobs            Bradford   \n",
       "20776                    hr jobs          Canterbury   \n",
       "\n",
       "                    company_name geo job_board  \\\n",
       "17380  Execuitve Resource Group   uk      reed   \n",
       "39245  Execuitve Resource Group   uk      reed   \n",
       "37996  Execuitve Resource Group   uk      reed   \n",
       "14167          SmartTasking.com   uk      reed   \n",
       "17277    Eames Consulting Group   uk      reed   \n",
       "...                          ...  ..       ...   \n",
       "23679      Reed Human Resources   uk      reed   \n",
       "21806      Reed Human Resources   uk      reed   \n",
       "15214            Reed Education   uk      reed   \n",
       "14867            Reed Education   uk      reed   \n",
       "20776      Reed Human Resources   uk      reed   \n",
       "\n",
       "                                         job_description  \\\n",
       "17380   Apply now Director - Finance - Procurement - ...   \n",
       "39245   Apply now Director - Finance - Procurement - ...   \n",
       "37996   Apply now Director - Finance - Procurement - ...   \n",
       "14167   Apply now IT Program Director | Central Londo...   \n",
       "17277   Apply now Senior Quantitative Analyst - Equit...   \n",
       "...                                                  ...   \n",
       "23679   Apply now ** Recruitment Advisors Wanted **Re...   \n",
       "21806   Apply now ** Recruitment Advisors Wanted **Re...   \n",
       "15214   Apply now As a Key Stage 2 class teacher you ...   \n",
       "14867   Apply now Key Stage 1 Class Teacher required ...   \n",
       "20776   Apply now HR Advisors needed for temporary/co...   \n",
       "\n",
       "                                        job_requirements  \\\n",
       "17380   Required skills Director of Finance and Procu...   \n",
       "39245   Required skills Director of Finance and Procu...   \n",
       "37996   Required skills Director of Finance and Procu...   \n",
       "14167   Required skills Portfolio Management Program ...   \n",
       "17277   Required skills C++ FX Options developer fron...   \n",
       "...                                                  ...   \n",
       "23679                                                NaN   \n",
       "21806                                                NaN   \n",
       "15214                                                NaN   \n",
       "14867                                                NaN   \n",
       "20776                                                NaN   \n",
       "\n",
       "                                               job_title  \\\n",
       "17380                Director of Finance and Procurement   \n",
       "39245                Director of Finance and Procurement   \n",
       "37996                Director of Finance and Procurement   \n",
       "14167                                IT Program Director   \n",
       "17277  Senior Quantitiave Analyst - Equity and model ...   \n",
       "...                                                  ...   \n",
       "23679                                 Resourcing Advisor   \n",
       "21806                                 Resourcing Advisor   \n",
       "15214                             Primary School Teacher   \n",
       "14867     Key Stage One Class Teacher | September 2018 |   \n",
       "20776                                         HR Advisor   \n",
       "\n",
       "                   job_type  post_date                      salary_offered  \\\n",
       "17380   Contract, full-time   3/9/2018          £750.00 - £825.00 per day    \n",
       "39245   Contract, full-time   3/9/2018          £750.00 - £825.00 per day    \n",
       "37996   Contract, full-time   3/9/2018          £750.00 - £825.00 per day    \n",
       "14167   Contract, full-time  3/12/2018          £750.00 - £850.00 per day    \n",
       "17277   Contract, full-time  2/23/2018        £600.00 - £1,000.00 per day    \n",
       "...                     ...        ...                                 ...   \n",
       "23679  Temporary, full-time   3/6/2018   £23,000.00 - £32,000.00 per hour    \n",
       "21806  Temporary, full-time   3/6/2018   £23,000.00 - £32,000.00 per hour    \n",
       "15214  Temporary, full-time   3/8/2018   £22,000.00 - £38,000.00 per hour    \n",
       "14867  Temporary, full-time   3/8/2018   £22,000.00 - £38,000.00 per hour    \n",
       "20776  Temporary, full-time   3/6/2018   £30,000.00 - £35,000.00 per hour    \n",
       "\n",
       "                state  min_salary  max_salary periodicity  annum_avg_salary  \n",
       "17380         England       750.0       825.0         day          201600.0  \n",
       "39245         England       750.0       825.0         day          201600.0  \n",
       "37996         England       750.0       825.0         day          201600.0  \n",
       "14167          London       750.0       850.0         day          204800.0  \n",
       "17277          London       600.0      1000.0         day          204800.0  \n",
       "...               ...         ...         ...         ...               ...  \n",
       "23679            Kent     23000.0     32000.0        hour        45925000.0  \n",
       "21806            Kent     23000.0     32000.0        hour        45925000.0  \n",
       "15214  West Yorkshire     22000.0     38000.0        hour        50100000.0  \n",
       "14867  West Yorkshire     22000.0     38000.0        hour        50100000.0  \n",
       "20776            Kent     30000.0     35000.0        hour        54275000.0  \n",
       "\n",
       "[81 rows x 16 columns]"
      ]
     },
     "execution_count": 38,
     "metadata": {},
     "output_type": "execute_result"
    }
   ],
   "source": [
    "df2[df2.annum_avg_salary > 200000].sort_values(\"annum_avg_salary\")"
   ]
  },
  {
   "cell_type": "code",
   "execution_count": 189,
   "metadata": {},
   "outputs": [
    {
     "data": {
      "text/plain": [
       "0"
      ]
     },
     "execution_count": 189,
     "metadata": {},
     "output_type": "execute_result"
    }
   ],
   "source": [
    "#TODOS\n",
    "#Check for errors in salary variable and clean the data"
   ]
  },
  {
   "cell_type": "code",
   "execution_count": 226,
   "metadata": {
    "scrolled": true
   },
   "outputs": [
    {
     "data": {
      "text/html": [
       "<div>\n",
       "<style scoped>\n",
       "    .dataframe tbody tr th:only-of-type {\n",
       "        vertical-align: middle;\n",
       "    }\n",
       "\n",
       "    .dataframe tbody tr th {\n",
       "        vertical-align: top;\n",
       "    }\n",
       "\n",
       "    .dataframe thead th {\n",
       "        text-align: right;\n",
       "    }\n",
       "</style>\n",
       "<table border=\"1\" class=\"dataframe\">\n",
       "  <thead>\n",
       "    <tr style=\"text-align: right;\">\n",
       "      <th></th>\n",
       "      <th>category</th>\n",
       "      <th>city</th>\n",
       "      <th>company_name</th>\n",
       "      <th>geo</th>\n",
       "      <th>job_board</th>\n",
       "      <th>job_description</th>\n",
       "      <th>job_requirements</th>\n",
       "      <th>job_title</th>\n",
       "      <th>job_type</th>\n",
       "      <th>post_date</th>\n",
       "      <th>salary_offered</th>\n",
       "      <th>state</th>\n",
       "      <th>min_salary</th>\n",
       "      <th>max_salary</th>\n",
       "      <th>periodicity</th>\n",
       "      <th>annum_avg_salary</th>\n",
       "    </tr>\n",
       "  </thead>\n",
       "  <tbody>\n",
       "    <tr>\n",
       "      <th>1020</th>\n",
       "      <td>hr jobs</td>\n",
       "      <td>West Midlands</td>\n",
       "      <td>Gleeson Recruitment Group</td>\n",
       "      <td>uk</td>\n",
       "      <td>reed</td>\n",
       "      <td>Apply now Gleeson HR are currently recruiting...</td>\n",
       "      <td>NaN</td>\n",
       "      <td>Head of HR</td>\n",
       "      <td>Permanent, full-time</td>\n",
       "      <td>3/8/2018</td>\n",
       "      <td>£60,000 - £650,000 per annum</td>\n",
       "      <td>West Midlands (Region)</td>\n",
       "      <td>60000.0</td>\n",
       "      <td>650000.0</td>\n",
       "      <td>annum</td>\n",
       "      <td>355000.0</td>\n",
       "    </tr>\n",
       "    <tr>\n",
       "      <th>1263</th>\n",
       "      <td>retail jobs</td>\n",
       "      <td>Taunton</td>\n",
       "      <td>McCarthy Recruitment Ltd</td>\n",
       "      <td>uk</td>\n",
       "      <td>reed</td>\n",
       "      <td>Apply now Job Title:Retail Store ManagerLocat...</td>\n",
       "      <td>NaN</td>\n",
       "      <td>Store Manager</td>\n",
       "      <td>Permanent, full-time</td>\n",
       "      <td>3/12/2018</td>\n",
       "      <td>£408,000 - £447,600 per annum</td>\n",
       "      <td>Somerset</td>\n",
       "      <td>408000.0</td>\n",
       "      <td>447600.0</td>\n",
       "      <td>annum</td>\n",
       "      <td>427800.0</td>\n",
       "    </tr>\n",
       "    <tr>\n",
       "      <th>1438</th>\n",
       "      <td>law jobs</td>\n",
       "      <td>Boston</td>\n",
       "      <td>Taskmaster</td>\n",
       "      <td>uk</td>\n",
       "      <td>reed</td>\n",
       "      <td>Apply now We are looking for a Private Client...</td>\n",
       "      <td>Required skills solicitor</td>\n",
       "      <td>Private Client Solicitor in Boston</td>\n",
       "      <td>Permanent, full-time</td>\n",
       "      <td>3/8/2018</td>\n",
       "      <td>£35,000 - £400,000 per annum</td>\n",
       "      <td>Lincolnshire</td>\n",
       "      <td>35000.0</td>\n",
       "      <td>400000.0</td>\n",
       "      <td>annum</td>\n",
       "      <td>217500.0</td>\n",
       "    </tr>\n",
       "    <tr>\n",
       "      <th>2245</th>\n",
       "      <td>law jobs</td>\n",
       "      <td>London</td>\n",
       "      <td>Ryder Reid Legal Ltd</td>\n",
       "      <td>uk</td>\n",
       "      <td>reed</td>\n",
       "      <td>Apply now Our client is a prestigious US law ...</td>\n",
       "      <td>NaN</td>\n",
       "      <td>P/A Legal Secretary in Private Equity/Funds to...</td>\n",
       "      <td>Permanent, full-time</td>\n",
       "      <td>3/12/2018</td>\n",
       "      <td>£45,000 - £450,000 per annum</td>\n",
       "      <td>South East England</td>\n",
       "      <td>45000.0</td>\n",
       "      <td>450000.0</td>\n",
       "      <td>annum</td>\n",
       "      <td>247500.0</td>\n",
       "    </tr>\n",
       "    <tr>\n",
       "      <th>3379</th>\n",
       "      <td>retail jobs</td>\n",
       "      <td>Walton On The Naze</td>\n",
       "      <td>McCarthy Recruitment Ltd</td>\n",
       "      <td>uk</td>\n",
       "      <td>reed</td>\n",
       "      <td>Apply now Job Title: Retail Store Manager/Ret...</td>\n",
       "      <td>NaN</td>\n",
       "      <td>Assistant Store Manager/Store Manager</td>\n",
       "      <td>Permanent, full-time</td>\n",
       "      <td>2/26/2018</td>\n",
       "      <td>£375,600 - £701,400 per annum</td>\n",
       "      <td>Essex</td>\n",
       "      <td>375600.0</td>\n",
       "      <td>701400.0</td>\n",
       "      <td>annum</td>\n",
       "      <td>538500.0</td>\n",
       "    </tr>\n",
       "    <tr>\n",
       "      <th>...</th>\n",
       "      <td>...</td>\n",
       "      <td>...</td>\n",
       "      <td>...</td>\n",
       "      <td>...</td>\n",
       "      <td>...</td>\n",
       "      <td>...</td>\n",
       "      <td>...</td>\n",
       "      <td>...</td>\n",
       "      <td>...</td>\n",
       "      <td>...</td>\n",
       "      <td>...</td>\n",
       "      <td>...</td>\n",
       "      <td>...</td>\n",
       "      <td>...</td>\n",
       "      <td>...</td>\n",
       "      <td>...</td>\n",
       "    </tr>\n",
       "    <tr>\n",
       "      <th>39060</th>\n",
       "      <td>banking jobs</td>\n",
       "      <td>Central London</td>\n",
       "      <td>Eames Consulting Group</td>\n",
       "      <td>uk</td>\n",
       "      <td>reed</td>\n",
       "      <td>Apply now A well-known, multinational investm...</td>\n",
       "      <td>Required skills C# C++ Equity Derivatives Equ...</td>\n",
       "      <td>Equities Price and Model Validation</td>\n",
       "      <td>Contract, full-time</td>\n",
       "      <td>3/9/2018</td>\n",
       "      <td>£750.00 - £900.00 per day</td>\n",
       "      <td>London</td>\n",
       "      <td>750.0</td>\n",
       "      <td>900.0</td>\n",
       "      <td>day</td>\n",
       "      <td>211200.0</td>\n",
       "    </tr>\n",
       "    <tr>\n",
       "      <th>39203</th>\n",
       "      <td>banking jobs</td>\n",
       "      <td>London</td>\n",
       "      <td>Orleans House</td>\n",
       "      <td>uk</td>\n",
       "      <td>reed</td>\n",
       "      <td>Apply now We are searching for an experienced...</td>\n",
       "      <td>NaN</td>\n",
       "      <td>Capital Markets Consultant</td>\n",
       "      <td>Contract, full-time</td>\n",
       "      <td>3/8/2018</td>\n",
       "      <td>£800.00 - £1,200.00 per day</td>\n",
       "      <td>South East England</td>\n",
       "      <td>800.0</td>\n",
       "      <td>1200.0</td>\n",
       "      <td>day</td>\n",
       "      <td>256000.0</td>\n",
       "    </tr>\n",
       "    <tr>\n",
       "      <th>39245</th>\n",
       "      <td>strategy consultancy jobs</td>\n",
       "      <td>South West England</td>\n",
       "      <td>Execuitve Resource Group</td>\n",
       "      <td>uk</td>\n",
       "      <td>reed</td>\n",
       "      <td>Apply now Director - Finance - Procurement - ...</td>\n",
       "      <td>Required skills Director of Finance and Procu...</td>\n",
       "      <td>Director of Finance and Procurement</td>\n",
       "      <td>Contract, full-time</td>\n",
       "      <td>3/9/2018</td>\n",
       "      <td>£750.00 - £825.00 per day</td>\n",
       "      <td>England</td>\n",
       "      <td>750.0</td>\n",
       "      <td>825.0</td>\n",
       "      <td>day</td>\n",
       "      <td>201600.0</td>\n",
       "    </tr>\n",
       "    <tr>\n",
       "      <th>39477</th>\n",
       "      <td>banking jobs</td>\n",
       "      <td>City Of London</td>\n",
       "      <td>Marks Sattin (UK) Ltd</td>\n",
       "      <td>uk</td>\n",
       "      <td>reed</td>\n",
       "      <td>Apply now Head of Finance I am working with a...</td>\n",
       "      <td>NaN</td>\n",
       "      <td>Head of Finance</td>\n",
       "      <td>Permanent, full-time</td>\n",
       "      <td>3/8/2018</td>\n",
       "      <td>£80,000 - £900,000 per annum</td>\n",
       "      <td>London</td>\n",
       "      <td>80000.0</td>\n",
       "      <td>900000.0</td>\n",
       "      <td>annum</td>\n",
       "      <td>490000.0</td>\n",
       "    </tr>\n",
       "    <tr>\n",
       "      <th>39588</th>\n",
       "      <td>banking jobs</td>\n",
       "      <td>City Of London</td>\n",
       "      <td>Eames Consulting Group</td>\n",
       "      <td>uk</td>\n",
       "      <td>reed</td>\n",
       "      <td>Apply now Senior Quantitative Analyst - Equit...</td>\n",
       "      <td>Required skills C++ FX Options developer fron...</td>\n",
       "      <td>Senior Quantitiave Analyst - Equity and model ...</td>\n",
       "      <td>Contract, full-time</td>\n",
       "      <td>2/23/2018</td>\n",
       "      <td>£600.00 - £1,000.00 per day</td>\n",
       "      <td>London</td>\n",
       "      <td>600.0</td>\n",
       "      <td>1000.0</td>\n",
       "      <td>day</td>\n",
       "      <td>204800.0</td>\n",
       "    </tr>\n",
       "  </tbody>\n",
       "</table>\n",
       "<p>81 rows × 16 columns</p>\n",
       "</div>"
      ],
      "text/plain": [
       "                        category                city  \\\n",
       "1020                     hr jobs       West Midlands   \n",
       "1263                 retail jobs             Taunton   \n",
       "1438                    law jobs              Boston   \n",
       "2245                    law jobs              London   \n",
       "3379                 retail jobs  Walton On The Naze   \n",
       "...                          ...                 ...   \n",
       "39060               banking jobs      Central London   \n",
       "39203               banking jobs              London   \n",
       "39245  strategy consultancy jobs  South West England   \n",
       "39477               banking jobs      City Of London   \n",
       "39588               banking jobs      City Of London   \n",
       "\n",
       "                     company_name geo job_board  \\\n",
       "1020   Gleeson Recruitment Group   uk      reed   \n",
       "1263    McCarthy Recruitment Ltd   uk      reed   \n",
       "1438                  Taskmaster   uk      reed   \n",
       "2245        Ryder Reid Legal Ltd   uk      reed   \n",
       "3379    McCarthy Recruitment Ltd   uk      reed   \n",
       "...                           ...  ..       ...   \n",
       "39060     Eames Consulting Group   uk      reed   \n",
       "39203              Orleans House   uk      reed   \n",
       "39245   Execuitve Resource Group   uk      reed   \n",
       "39477      Marks Sattin (UK) Ltd   uk      reed   \n",
       "39588     Eames Consulting Group   uk      reed   \n",
       "\n",
       "                                         job_description  \\\n",
       "1020    Apply now Gleeson HR are currently recruiting...   \n",
       "1263    Apply now Job Title:Retail Store ManagerLocat...   \n",
       "1438    Apply now We are looking for a Private Client...   \n",
       "2245    Apply now Our client is a prestigious US law ...   \n",
       "3379    Apply now Job Title: Retail Store Manager/Ret...   \n",
       "...                                                  ...   \n",
       "39060   Apply now A well-known, multinational investm...   \n",
       "39203   Apply now We are searching for an experienced...   \n",
       "39245   Apply now Director - Finance - Procurement - ...   \n",
       "39477   Apply now Head of Finance I am working with a...   \n",
       "39588   Apply now Senior Quantitative Analyst - Equit...   \n",
       "\n",
       "                                        job_requirements  \\\n",
       "1020                                                 NaN   \n",
       "1263                                                 NaN   \n",
       "1438                          Required skills solicitor    \n",
       "2245                                                 NaN   \n",
       "3379                                                 NaN   \n",
       "...                                                  ...   \n",
       "39060   Required skills C# C++ Equity Derivatives Equ...   \n",
       "39203                                                NaN   \n",
       "39245   Required skills Director of Finance and Procu...   \n",
       "39477                                                NaN   \n",
       "39588   Required skills C++ FX Options developer fron...   \n",
       "\n",
       "                                               job_title  \\\n",
       "1020                                          Head of HR   \n",
       "1263                                       Store Manager   \n",
       "1438                  Private Client Solicitor in Boston   \n",
       "2245   P/A Legal Secretary in Private Equity/Funds to...   \n",
       "3379               Assistant Store Manager/Store Manager   \n",
       "...                                                  ...   \n",
       "39060                Equities Price and Model Validation   \n",
       "39203                         Capital Markets Consultant   \n",
       "39245                Director of Finance and Procurement   \n",
       "39477                                    Head of Finance   \n",
       "39588  Senior Quantitiave Analyst - Equity and model ...   \n",
       "\n",
       "                   job_type  post_date                   salary_offered  \\\n",
       "1020   Permanent, full-time   3/8/2018    £60,000 - £650,000 per annum    \n",
       "1263   Permanent, full-time  3/12/2018   £408,000 - £447,600 per annum    \n",
       "1438   Permanent, full-time   3/8/2018    £35,000 - £400,000 per annum    \n",
       "2245   Permanent, full-time  3/12/2018    £45,000 - £450,000 per annum    \n",
       "3379   Permanent, full-time  2/26/2018   £375,600 - £701,400 per annum    \n",
       "...                     ...        ...                              ...   \n",
       "39060   Contract, full-time   3/9/2018       £750.00 - £900.00 per day    \n",
       "39203   Contract, full-time   3/8/2018     £800.00 - £1,200.00 per day    \n",
       "39245   Contract, full-time   3/9/2018       £750.00 - £825.00 per day    \n",
       "39477  Permanent, full-time   3/8/2018    £80,000 - £900,000 per annum    \n",
       "39588   Contract, full-time  2/23/2018     £600.00 - £1,000.00 per day    \n",
       "\n",
       "                        state  min_salary  max_salary periodicity  \\\n",
       "1020   West Midlands (Region)     60000.0    650000.0       annum   \n",
       "1263                 Somerset    408000.0    447600.0       annum   \n",
       "1438             Lincolnshire     35000.0    400000.0       annum   \n",
       "2245       South East England     45000.0    450000.0       annum   \n",
       "3379                    Essex    375600.0    701400.0       annum   \n",
       "...                       ...         ...         ...         ...   \n",
       "39060                  London       750.0       900.0         day   \n",
       "39203      South East England       800.0      1200.0         day   \n",
       "39245                 England       750.0       825.0         day   \n",
       "39477                  London     80000.0    900000.0       annum   \n",
       "39588                  London       600.0      1000.0         day   \n",
       "\n",
       "       annum_avg_salary  \n",
       "1020           355000.0  \n",
       "1263           427800.0  \n",
       "1438           217500.0  \n",
       "2245           247500.0  \n",
       "3379           538500.0  \n",
       "...                 ...  \n",
       "39060          211200.0  \n",
       "39203          256000.0  \n",
       "39245          201600.0  \n",
       "39477          490000.0  \n",
       "39588          204800.0  \n",
       "\n",
       "[81 rows x 16 columns]"
      ]
     },
     "execution_count": 226,
     "metadata": {},
     "output_type": "execute_result"
    }
   ],
   "source": [
    "df2[df2.annum_avg_salary > 200000]"
   ]
  },
  {
   "cell_type": "markdown",
   "metadata": {},
   "source": [
    "Job description variable EDA"
   ]
  },
  {
   "cell_type": "code",
   "execution_count": 40,
   "metadata": {},
   "outputs": [],
   "source": [
    "import nltk\n",
    "import re\n",
    "from nltk.corpus import stopwords \n",
    "from nltk.tokenize import word_tokenize \n",
    "stop_words = set(stopwords.words('english')) \n",
    "from string import punctuation\n",
    "import collections"
   ]
  },
  {
   "cell_type": "markdown",
   "metadata": {},
   "source": [
    "General information about the length of the job descriptions"
   ]
  },
  {
   "cell_type": "code",
   "execution_count": 60,
   "metadata": {},
   "outputs": [],
   "source": [
    "description_lengths = df2.job_description.apply(lambda x: len(nltk.word_tokenize(x)))"
   ]
  },
  {
   "cell_type": "code",
   "execution_count": 61,
   "metadata": {},
   "outputs": [
    {
     "data": {
      "text/plain": [
       "count    40969.000000\n",
       "mean       312.082721\n",
       "std        153.847203\n",
       "min         17.000000\n",
       "25%        203.000000\n",
       "50%        287.000000\n",
       "75%        391.000000\n",
       "max       1125.000000\n",
       "Name: job_description, dtype: float64"
      ]
     },
     "execution_count": 61,
     "metadata": {},
     "output_type": "execute_result"
    }
   ],
   "source": [
    "description_lengths.describe()"
   ]
  },
  {
   "cell_type": "code",
   "execution_count": 62,
   "metadata": {},
   "outputs": [
    {
     "data": {
      "text/plain": [
       "<matplotlib.axes._subplots.AxesSubplot at 0x1f31182fba8>"
      ]
     },
     "execution_count": 62,
     "metadata": {},
     "output_type": "execute_result"
    },
    {
     "data": {
      "image/png": "[encoded data removed]",
      "text/plain": [
       "<Figure size 432x288 with 1 Axes>"
      ]
     },
     "metadata": {
      "needs_background": "light"
     },
     "output_type": "display_data"
    }
   ],
   "source": [
    "review_words_lengths.hist()"
   ]
  },
  {
   "cell_type": "markdown",
   "metadata": {},
   "source": [
    "Text cleaning"
   ]
  },
  {
   "cell_type": "code",
   "execution_count": 83,
   "metadata": {},
   "outputs": [
    {
     "name": "stderr",
     "output_type": "stream",
     "text": [
      "[nltk_data] Downloading package wordnet to\n",
      "[nltk_data]     C:\\Users\\PC\\AppData\\Roaming\\nltk_data...\n",
      "[nltk_data]   Package wordnet is already up-to-date!\n"
     ]
    }
   ],
   "source": [
    "from nltk.corpus import stopwords\n",
    "nltk.download('wordnet')\n",
    "stop_words = set(stopwords.words('english')) \n",
    "\n",
    "def text_to_clean_words(text):\n",
    "    text = text.lower()\n",
    "    # Removing numbers, *** and www links from the data\n",
    "    text = re.sub('[0-9]+\\s+|\\s\\d+\\s|\\w+[0-9]+|www\\.[^\\s]+','',text)\n",
    "    # Removing punctuation\n",
    "    for p in punctuation:\n",
    "        text = text.replace(p,'')\n",
    "    word_tokens = nltk.word_tokenize(text)\n",
    "\n",
    "    ## Removing the stopwords\n",
    "    words_clean = [each for each in word_tokens if each not in stop_words and len(each) > 2]\n",
    "    return words_clean"
   ]
  },
  {
   "cell_type": "code",
   "execution_count": 84,
   "metadata": {},
   "outputs": [],
   "source": [
    "clean_job_description_tokens = df2.iloc[:,:].job_description.apply(text_to_clean_words)"
   ]
  },
  {
   "cell_type": "code",
   "execution_count": 85,
   "metadata": {},
   "outputs": [],
   "source": [
    "l = list(clean_job_description_tokens)\n",
    "l1 = [item for sublist in l for item in sublist]"
   ]
  },
  {
   "cell_type": "markdown",
   "metadata": {},
   "source": [
    "top words"
   ]
  },
  {
   "cell_type": "code",
   "execution_count": 86,
   "metadata": {
    "scrolled": true
   },
   "outputs": [
    {
     "data": {
      "text/html": [
       "<div>\n",
       "<style scoped>\n",
       "    .dataframe tbody tr th:only-of-type {\n",
       "        vertical-align: middle;\n",
       "    }\n",
       "\n",
       "    .dataframe tbody tr th {\n",
       "        vertical-align: top;\n",
       "    }\n",
       "\n",
       "    .dataframe thead th {\n",
       "        text-align: right;\n",
       "    }\n",
       "</style>\n",
       "<table border=\"1\" class=\"dataframe\">\n",
       "  <thead>\n",
       "    <tr style=\"text-align: right;\">\n",
       "      <th></th>\n",
       "      <th>words</th>\n",
       "      <th>freq</th>\n",
       "    </tr>\n",
       "  </thead>\n",
       "  <tbody>\n",
       "    <tr>\n",
       "      <th>213</th>\n",
       "      <td>client</td>\n",
       "      <td>33698</td>\n",
       "    </tr>\n",
       "    <tr>\n",
       "      <th>47</th>\n",
       "      <td>skills</td>\n",
       "      <td>33272</td>\n",
       "    </tr>\n",
       "    <tr>\n",
       "      <th>76</th>\n",
       "      <td>service</td>\n",
       "      <td>31409</td>\n",
       "    </tr>\n",
       "    <tr>\n",
       "      <th>326</th>\n",
       "      <td>support</td>\n",
       "      <td>30950</td>\n",
       "    </tr>\n",
       "    <tr>\n",
       "      <th>515</th>\n",
       "      <td>company</td>\n",
       "      <td>29960</td>\n",
       "    </tr>\n",
       "    <tr>\n",
       "      <th>168</th>\n",
       "      <td>management</td>\n",
       "      <td>29522</td>\n",
       "    </tr>\n",
       "    <tr>\n",
       "      <th>572</th>\n",
       "      <td>please</td>\n",
       "      <td>29210</td>\n",
       "    </tr>\n",
       "    <tr>\n",
       "      <th>829</th>\n",
       "      <td>sales</td>\n",
       "      <td>28840</td>\n",
       "    </tr>\n",
       "    <tr>\n",
       "      <th>1</th>\n",
       "      <td>new</td>\n",
       "      <td>28417</td>\n",
       "    </tr>\n",
       "    <tr>\n",
       "      <th>339</th>\n",
       "      <td>customer</td>\n",
       "      <td>26401</td>\n",
       "    </tr>\n",
       "  </tbody>\n",
       "</table>\n",
       "</div>"
      ],
      "text/plain": [
       "          words   freq\n",
       "213      client  33698\n",
       "47       skills  33272\n",
       "76      service  31409\n",
       "326     support  30950\n",
       "515     company  29960\n",
       "168  management  29522\n",
       "572      please  29210\n",
       "829       sales  28840\n",
       "1           new  28417\n",
       "339    customer  26401"
      ]
     },
     "metadata": {},
     "output_type": "display_data"
    }
   ],
   "source": [
    "word_freq_lem = dict(collections.Counter(l1))\n",
    "keys = list(word_freq_lem.keys())\n",
    "values = list(word_freq_lem.values())\n",
    "df_lem = pd.DataFrame({'words':keys,'freq':values})\n",
    "display(df_lem.sort_values(by = 'freq',ascending = False)[10:20])\n"
   ]
  },
  {
   "cell_type": "code",
   "execution_count": 79,
   "metadata": {},
   "outputs": [],
   "source": [
    "df3 = df2[df2.annum_avg_salary > df2.annum_avg_salary.quantile(0.80)]"
   ]
  },
  {
   "cell_type": "code",
   "execution_count": 82,
   "metadata": {},
   "outputs": [
    {
     "data": {
      "text/html": [
       "<div>\n",
       "<style scoped>\n",
       "    .dataframe tbody tr th:only-of-type {\n",
       "        vertical-align: middle;\n",
       "    }\n",
       "\n",
       "    .dataframe tbody tr th {\n",
       "        vertical-align: top;\n",
       "    }\n",
       "\n",
       "    .dataframe thead th {\n",
       "        text-align: right;\n",
       "    }\n",
       "</style>\n",
       "<table border=\"1\" class=\"dataframe\">\n",
       "  <thead>\n",
       "    <tr style=\"text-align: right;\">\n",
       "      <th></th>\n",
       "      <th>words</th>\n",
       "      <th>freq</th>\n",
       "    </tr>\n",
       "  </thead>\n",
       "  <tbody>\n",
       "    <tr>\n",
       "      <th>702</th>\n",
       "      <td>client</td>\n",
       "      <td>7596</td>\n",
       "    </tr>\n",
       "    <tr>\n",
       "      <th>499</th>\n",
       "      <td>manager</td>\n",
       "      <td>7476</td>\n",
       "    </tr>\n",
       "    <tr>\n",
       "      <th>182</th>\n",
       "      <td>new</td>\n",
       "      <td>6777</td>\n",
       "    </tr>\n",
       "    <tr>\n",
       "      <th>206</th>\n",
       "      <td>skills</td>\n",
       "      <td>6405</td>\n",
       "    </tr>\n",
       "    <tr>\n",
       "      <th>244</th>\n",
       "      <td>looking</td>\n",
       "      <td>6347</td>\n",
       "    </tr>\n",
       "    <tr>\n",
       "      <th>124</th>\n",
       "      <td>development</td>\n",
       "      <td>6320</td>\n",
       "    </tr>\n",
       "    <tr>\n",
       "      <th>338</th>\n",
       "      <td>please</td>\n",
       "      <td>5639</td>\n",
       "    </tr>\n",
       "    <tr>\n",
       "      <th>501</th>\n",
       "      <td>company</td>\n",
       "      <td>5343</td>\n",
       "    </tr>\n",
       "    <tr>\n",
       "      <th>1060</th>\n",
       "      <td>opportunity</td>\n",
       "      <td>5341</td>\n",
       "    </tr>\n",
       "    <tr>\n",
       "      <th>809</th>\n",
       "      <td>sales</td>\n",
       "      <td>5110</td>\n",
       "    </tr>\n",
       "  </tbody>\n",
       "</table>\n",
       "</div>"
      ],
      "text/plain": [
       "            words  freq\n",
       "702        client  7596\n",
       "499       manager  7476\n",
       "182           new  6777\n",
       "206        skills  6405\n",
       "244       looking  6347\n",
       "124   development  6320\n",
       "338        please  5639\n",
       "501       company  5343\n",
       "1060  opportunity  5341\n",
       "809         sales  5110"
      ]
     },
     "metadata": {},
     "output_type": "display_data"
    }
   ],
   "source": [
    "clean_job_description_tokens = df3.iloc[:,:].job_description.apply(text_to_clean_words)\n",
    "l = list(clean_job_description_tokens)\n",
    "l1 = [item for sublist in l for item in sublist]\n",
    "word_freq_lem = dict(collections.Counter(l1))\n",
    "keys = list(word_freq_lem.keys())\n",
    "values = list(word_freq_lem.values())\n",
    "df_lem = pd.DataFrame({'words':keys,'freq':values})\n",
    "display(df_lem.sort_values(by = 'freq',ascending = False)[10:20])"
   ]
  },
  {
   "cell_type": "code",
   "execution_count": 228,
   "metadata": {},
   "outputs": [],
   "source": [
    "df2.to_csv(\"data/reed_uk_v2.csv\", index=False)"
   ]
  }
 ],
 "metadata": {
  "kernelspec": {
   "display_name": "Python 3",
   "language": "python",
   "name": "python3"
  },
  "language_info": {
   "codemirror_mode": {
    "name": "ipython",
    "version": 3
   },
   "file_extension": ".py",
   "mimetype": "text/x-python",
   "name": "python",
   "nbconvert_exporter": "python",
   "pygments_lexer": "ipython3",
   "version": "3.7.1"
  }
 },
 "nbformat": 4,
 "nbformat_minor": 4
}
