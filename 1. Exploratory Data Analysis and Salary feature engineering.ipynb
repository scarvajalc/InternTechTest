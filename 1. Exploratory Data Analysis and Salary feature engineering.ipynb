{
 "cells": [
  {
   "cell_type": "markdown",
   "metadata": {},
   "source": [
    "The objective of the analysis is to obtain useful information about the data we are working with and to start the preprocessing process to build a model to predict the average annual salary based initially on job_description. For now, we are going to explore and transform if necessary the variables salary_offered and Job_description in the dataset."
   ]
  },
  {
   "cell_type": "code",
   "execution_count": 1,
   "metadata": {},
   "outputs": [],
   "source": [
    "import pandas as pd\n",
    "import numpy as np\n",
    "import matplotlib.pyplot as plt"
   ]
  },
  {
   "cell_type": "code",
   "execution_count": 2,
   "metadata": {},
   "outputs": [],
   "source": [
    "df = pd.read_csv(\"data/reed_uk.csv\")"
   ]
  },
  {
   "cell_type": "markdown",
   "metadata": {},
   "source": [
    "Overview of the dataset"
   ]
  },
  {
   "cell_type": "code",
   "execution_count": 3,
   "metadata": {},
   "outputs": [
    {
     "data": {
      "text/html": [
       "<div>\n",
       "<style scoped>\n",
       "    .dataframe tbody tr th:only-of-type {\n",
       "        vertical-align: middle;\n",
       "    }\n",
       "\n",
       "    .dataframe tbody tr th {\n",
       "        vertical-align: top;\n",
       "    }\n",
       "\n",
       "    .dataframe thead th {\n",
       "        text-align: right;\n",
       "    }\n",
       "</style>\n",
       "<table border=\"1\" class=\"dataframe\">\n",
       "  <thead>\n",
       "    <tr style=\"text-align: right;\">\n",
       "      <th></th>\n",
       "      <th>category</th>\n",
       "      <th>city</th>\n",
       "      <th>company_name</th>\n",
       "      <th>geo</th>\n",
       "      <th>job_board</th>\n",
       "      <th>job_description</th>\n",
       "      <th>job_requirements</th>\n",
       "      <th>job_title</th>\n",
       "      <th>job_type</th>\n",
       "      <th>post_date</th>\n",
       "      <th>salary_offered</th>\n",
       "      <th>state</th>\n",
       "    </tr>\n",
       "  </thead>\n",
       "  <tbody>\n",
       "    <tr>\n",
       "      <th>0</th>\n",
       "      <td>catering jobs</td>\n",
       "      <td>Chudleigh</td>\n",
       "      <td>Haulfryn Group</td>\n",
       "      <td>uk</td>\n",
       "      <td>reed</td>\n",
       "      <td>Apply now New opportunity not to be missed! H...</td>\n",
       "      <td>NaN</td>\n",
       "      <td>Commis Chef</td>\n",
       "      <td>Permanent, full-time</td>\n",
       "      <td>3/12/2018</td>\n",
       "      <td>£18,323 per annum</td>\n",
       "      <td>Devon</td>\n",
       "    </tr>\n",
       "    <tr>\n",
       "      <th>1</th>\n",
       "      <td>law jobs</td>\n",
       "      <td>Swindon</td>\n",
       "      <td>Reed</td>\n",
       "      <td>uk</td>\n",
       "      <td>reed</td>\n",
       "      <td>Apply now This role requires an experienced s...</td>\n",
       "      <td>NaN</td>\n",
       "      <td>Corporate Legal Secretary</td>\n",
       "      <td>Permanent, full-time</td>\n",
       "      <td>3/8/2018</td>\n",
       "      <td>£18,000 - £22,000 per annum</td>\n",
       "      <td>Wiltshire</td>\n",
       "    </tr>\n",
       "    <tr>\n",
       "      <th>2</th>\n",
       "      <td>factory jobs</td>\n",
       "      <td>Norfolk</td>\n",
       "      <td>Swanstaff Recruitment Ltd</td>\n",
       "      <td>uk</td>\n",
       "      <td>reed</td>\n",
       "      <td>Apply now Job Title: Warehouse personLocation...</td>\n",
       "      <td>NaN</td>\n",
       "      <td>Warehouse Person</td>\n",
       "      <td>Permanent, full-time</td>\n",
       "      <td>2/27/2018</td>\n",
       "      <td>Salary not specified</td>\n",
       "      <td>East Anglia</td>\n",
       "    </tr>\n",
       "    <tr>\n",
       "      <th>3</th>\n",
       "      <td>law jobs</td>\n",
       "      <td>Hurstpierpoint</td>\n",
       "      <td>Castles Solicitors</td>\n",
       "      <td>uk</td>\n",
       "      <td>reed</td>\n",
       "      <td>Apply now Castles Solicitors are looking for ...</td>\n",
       "      <td>Required skills Admin Case Management Corresp...</td>\n",
       "      <td>Legal Secretary / Admin Assistant</td>\n",
       "      <td>Permanent, full-time or part-time</td>\n",
       "      <td>2/21/2018</td>\n",
       "      <td>£15,000 - £17,000 per annum, pro-rata</td>\n",
       "      <td>West Sussex</td>\n",
       "    </tr>\n",
       "    <tr>\n",
       "      <th>4</th>\n",
       "      <td>factory jobs</td>\n",
       "      <td>Hertfordshire</td>\n",
       "      <td>Marketplace Group</td>\n",
       "      <td>uk</td>\n",
       "      <td>reed</td>\n",
       "      <td>Apply now International Pharmaceutical Manufa...</td>\n",
       "      <td>NaN</td>\n",
       "      <td>Category Planner - Pharmaceutical</td>\n",
       "      <td>Permanent, full-time</td>\n",
       "      <td>3/1/2018</td>\n",
       "      <td>£37,000 - £45,000 per annum</td>\n",
       "      <td>South East England</td>\n",
       "    </tr>\n",
       "  </tbody>\n",
       "</table>\n",
       "</div>"
      ],
      "text/plain": [
       "        category            city                company_name geo job_board  \\\n",
       "0  catering jobs       Chudleigh             Haulfryn Group   uk      reed   \n",
       "1       law jobs         Swindon                       Reed   uk      reed   \n",
       "2   factory jobs         Norfolk  Swanstaff Recruitment Ltd   uk      reed   \n",
       "3       law jobs  Hurstpierpoint         Castles Solicitors   uk      reed   \n",
       "4   factory jobs   Hertfordshire          Marketplace Group   uk      reed   \n",
       "\n",
       "                                     job_description  \\\n",
       "0   Apply now New opportunity not to be missed! H...   \n",
       "1   Apply now This role requires an experienced s...   \n",
       "2   Apply now Job Title: Warehouse personLocation...   \n",
       "3   Apply now Castles Solicitors are looking for ...   \n",
       "4   Apply now International Pharmaceutical Manufa...   \n",
       "\n",
       "                                    job_requirements  \\\n",
       "0                                                NaN   \n",
       "1                                                NaN   \n",
       "2                                                NaN   \n",
       "3   Required skills Admin Case Management Corresp...   \n",
       "4                                                NaN   \n",
       "\n",
       "                           job_title                           job_type  \\\n",
       "0                        Commis Chef               Permanent, full-time   \n",
       "1          Corporate Legal Secretary               Permanent, full-time   \n",
       "2                   Warehouse Person               Permanent, full-time   \n",
       "3  Legal Secretary / Admin Assistant  Permanent, full-time or part-time   \n",
       "4  Category Planner - Pharmaceutical               Permanent, full-time   \n",
       "\n",
       "   post_date                           salary_offered               state  \n",
       "0  3/12/2018                       £18,323 per annum                Devon  \n",
       "1   3/8/2018             £18,000 - £22,000 per annum            Wiltshire  \n",
       "2  2/27/2018                    Salary not specified          East Anglia  \n",
       "3  2/21/2018   £15,000 - £17,000 per annum, pro-rata          West Sussex  \n",
       "4   3/1/2018             £37,000 - £45,000 per annum   South East England  "
      ]
     },
     "execution_count": 3,
     "metadata": {},
     "output_type": "execute_result"
    }
   ],
   "source": [
    "df.head()"
   ]
  },
  {
   "cell_type": "code",
   "execution_count": 4,
   "metadata": {},
   "outputs": [
    {
     "name": "stdout",
     "output_type": "stream",
     "text": [
      "The data has 50000 registers\n"
     ]
    }
   ],
   "source": [
    "print(f\"The data has {df.shape[0]} registers\")"
   ]
  },
  {
   "cell_type": "markdown",
   "metadata": {},
   "source": [
    "Checking the number of unique values and missing values (NaN) for each variable (column)"
   ]
  },
  {
   "cell_type": "code",
   "execution_count": 5,
   "metadata": {},
   "outputs": [
    {
     "data": {
      "text/plain": [
       "category               37\n",
       "city                 2918\n",
       "company_name         5166\n",
       "geo                     1\n",
       "job_board               1\n",
       "job_description     42057\n",
       "job_requirements    14887\n",
       "job_title           29155\n",
       "job_type                9\n",
       "post_date              66\n",
       "salary_offered       7345\n",
       "state                 167\n",
       "dtype: int64"
      ]
     },
     "execution_count": 5,
     "metadata": {},
     "output_type": "execute_result"
    }
   ],
   "source": [
    "df.nunique()"
   ]
  },
  {
   "cell_type": "code",
   "execution_count": 6,
   "metadata": {},
   "outputs": [
    {
     "data": {
      "text/plain": [
       "category                0\n",
       "city                    0\n",
       "company_name            0\n",
       "geo                     0\n",
       "job_board               0\n",
       "job_description         0\n",
       "job_requirements    29452\n",
       "job_title               0\n",
       "job_type                0\n",
       "post_date               0\n",
       "salary_offered          0\n",
       "state                  20\n",
       "dtype: int64"
      ]
     },
     "execution_count": 6,
     "metadata": {},
     "output_type": "execute_result"
    }
   ],
   "source": [
    "#Missing values for each variable\n",
    "df.isna().sum()"
   ]
  },
  {
   "cell_type": "markdown",
   "metadata": {},
   "source": [
    "We can see that more than half of the data doesn't have the job_requirements value"
   ]
  },
  {
   "cell_type": "markdown",
   "metadata": {},
   "source": [
    "Job type unique values"
   ]
  },
  {
   "cell_type": "code",
   "execution_count": 7,
   "metadata": {},
   "outputs": [
    {
     "data": {
      "text/plain": [
       "array(['Permanent, full-time', 'Permanent, full-time or part-time',\n",
       "       'Permanent, part-time', 'Contract, full-time',\n",
       "       'Temporary, part-time', 'Temporary, full-time or part-time',\n",
       "       'Temporary, full-time', 'Contract, full-time or part-time',\n",
       "       'Contract, part-time'], dtype=object)"
      ]
     },
     "execution_count": 7,
     "metadata": {},
     "output_type": "execute_result"
    }
   ],
   "source": [
    "df.job_type.unique()"
   ]
  },
  {
   "cell_type": "markdown",
   "metadata": {},
   "source": [
    "Category type unique values"
   ]
  },
  {
   "cell_type": "code",
   "execution_count": 8,
   "metadata": {},
   "outputs": [
    {
     "data": {
      "text/plain": [
       "array(['catering jobs', 'law jobs', 'factory jobs', 'retail jobs',\n",
       "       'motoring automotive jobs', 'hr jobs', 'marketing jobs',\n",
       "       'estate agent jobs', 'customer service jobs',\n",
       "       'accountancy qualified jobs', 'health jobs', 'logistics jobs',\n",
       "       'finance jobs', 'social care jobs', 'recruitment consultancy jobs',\n",
       "       'construction property jobs', 'engineering jobs',\n",
       "       'admin secretarial pa jobs', 'accountancy jobs', 'sales jobs',\n",
       "       'it jobs', 'education jobs', 'other jobs', 'security safety jobs',\n",
       "       'energy jobs', 'apprenticeships jobs', 'training jobs',\n",
       "       'charity jobs', 'strategy consultancy jobs', 'banking jobs',\n",
       "       'purchasing jobs', 'fmcg jobs', 'leisure tourism jobs',\n",
       "       'science jobs', 'graduate training internships jobs',\n",
       "       'general insurance jobs', 'media digital creative jobs'],\n",
       "      dtype=object)"
      ]
     },
     "execution_count": 8,
     "metadata": {},
     "output_type": "execute_result"
    }
   ],
   "source": [
    "df.category.unique()"
   ]
  },
  {
   "cell_type": "markdown",
   "metadata": {},
   "source": [
    "Salary_offered variable analysis "
   ]
  },
  {
   "cell_type": "code",
   "execution_count": 9,
   "metadata": {},
   "outputs": [
    {
     "data": {
      "text/plain": [
       "9031"
      ]
     },
     "execution_count": 9,
     "metadata": {},
     "output_type": "execute_result"
    }
   ],
   "source": [
    "#Number of offers without the £ symbol\n",
    "(~df.salary_offered.str.contains(\"£\")).sum()"
   ]
  },
  {
   "cell_type": "code",
   "execution_count": 10,
   "metadata": {},
   "outputs": [
    {
     "data": {
      "text/plain": [
       " Salary negotiable                                                           4539\n",
       " Competitive salary                                                          3998\n",
       " Salary not specified                                                         317\n",
       " Commission only                                                               29\n",
       " ‚¬35,000 - ‚¬40,000 per annum                                                  7\n",
       " ‚¬45,000 - ‚¬55,000 per annum                                                  7\n",
       " ‚¬22,000 - ‚¬23,000 per annum                                                  5\n",
       " ‚¬60,000 - ‚¬70,000 per annum                                                  4\n",
       " ‚¬30,000 per annum                                                             4\n",
       " ‚¬70,000 - ‚¬80,000 per annum                                                  4\n",
       " ‚¬40.00 - ‚¬50.00 per hour                                                     3\n",
       " ‚¬55,000 - ‚¬65,000 per annum                                                  3\n",
       " ‚¬30,000 - ‚¬35,000 per annum                                                  3\n",
       " ‚¬40,000 - ‚¬50,000 per annum                                                  2\n",
       " ‚¬500.00 - ‚¬510.00 per day                                                    2\n",
       " ‚¬34,000 - ‚¬36,000 per annum, negotiable                                      2\n",
       " USD$80,000 - USD$120,000 per annum, negotiable                                 2\n",
       " ‚¬22,000 - ‚¬25,000 per annum, negotiable                                      2\n",
       " ‚¬41.00 per hour                                                               2\n",
       " ‚¬60,000 - ‚¬78,000 per annum                                                  2\n",
       " ‚¬20,000 - ‚¬23,000 per annum                                                  2\n",
       " ‚¬40,000 - ‚¬45,000 per annum                                                  2\n",
       " ‚¬25,000 - ‚¬35,000 per annum                                                  2\n",
       " ‚¬60,000 - ‚¬77,000 per annum                                                  2\n",
       " ‚¬150,000 - ‚¬200,000 per annum                                                2\n",
       " USD$150,000 - USD$200,000 per annum                                            2\n",
       " ‚¬80,000 - ‚¬100,000 per annum, negotiable, pro-rata, inc benefits, OTE        2\n",
       " ‚¬35.00 - ‚¬45.00 per hour                                                     2\n",
       " ‚¬50,000 - ‚¬60,000 per annum                                                  2\n",
       " ‚¬35,000 - ‚¬45,000 per annum                                                  2\n",
       "                                                                             ... \n",
       " ‚¬16,000 - ‚¬19,000 per annum                                                  1\n",
       " ‚¬75,000 - ‚¬95,000 per annum, negotiable                                      1\n",
       " ‚¬35,000 - ‚¬38,000 per annum                                                  1\n",
       " ‚¬32,000 - ‚¬35,000 per annum, negotiable, inc benefits, OTE                   1\n",
       " ‚¬36,480 per annum                                                             1\n",
       " ‚¬30,000 - ‚¬40,000 per annum                                                  1\n",
       " USD$250,000 - USD$300,000 per annum                                            1\n",
       " ‚¬18,000 - ‚¬24,000 per annum                                                  1\n",
       " ‚¬55,000 - ‚¬65,000 per annum, negotiable, inc benefits, OTE                   1\n",
       " ‚¬500.00 - ‚¬550.00 per day                                                    1\n",
       " ‚¬60,000 - ‚¬70,000 per annum, negotiable, inc benefits                        1\n",
       " USD$352.84 - USD$395.43 per day                                                1\n",
       " ‚¬18,000 - ‚¬31,000 per annum, OTE                                             1\n",
       " ‚¬210.00 - ‚¬250.00 per day                                                    1\n",
       " ‚¬18,000 - ‚¬21,000 per annum                                                  1\n",
       " ‚¬11.40 per hour                                                               1\n",
       " ‚¬15,228 per annum                                                             1\n",
       " USD$348.92 - USD$391.04 per day                                                1\n",
       " ‚¬14,000 - ‚¬16,000 per annum                                                  1\n",
       " ‚¬45,600 - ‚¬49,200 per annum                                                  1\n",
       " USD$90,000 - USD$120,000 per annum                                             1\n",
       " ‚¬35,000 - ‚¬45,000 per annum, negotiable, inc benefits, OTE                   1\n",
       " ‚¬25,000 - ‚¬30,000 per annum                                                  1\n",
       " ‚¬60,000 - ‚¬80,000 per annum                                                  1\n",
       " ‚¬70,000 - ‚¬120,000 per annum                                                 1\n",
       " ‚¬19,644 per annum                                                             1\n",
       " ‚¬40,000 - ‚¬50,000 per annum, negotiable                                      1\n",
       " ‚¬18,000 - ‚¬19,000 per annum, negotiable                                      1\n",
       " ‚¬60,000 - ‚¬70,000 per annum, negotiable, OTE                                 1\n",
       " USD$103,000 - USD$155,000 per annum                                            1\n",
       "Name: salary_offered, Length: 103, dtype: int64"
      ]
     },
     "execution_count": 10,
     "metadata": {},
     "output_type": "execute_result"
    }
   ],
   "source": [
    "#Unique values and their count in the offers without the £ symbol\n",
    "df[~df.salary_offered.str.contains(\"£\")].salary_offered.value_counts()"
   ]
  },
  {
   "cell_type": "markdown",
   "metadata": {},
   "source": [
    "We can see that most of the job offers without the £ symbol in the salary corresponds to offers that doesn't publish the value of the salary (8883 out of 9031) instead they publish some generic text like Salary negotiable, Competitive salary, Salary not specified or Commission only. The remaining 148 offers in this group use a different currency.\n",
    "So we proceed to discard the offers without the £ symbol in the salary."
   ]
  },
  {
   "cell_type": "code",
   "execution_count": 11,
   "metadata": {},
   "outputs": [],
   "source": [
    "df2 = df[df.salary_offered.str.contains(\"£\")].reset_index(drop=True).copy()"
   ]
  },
  {
   "cell_type": "code",
   "execution_count": 12,
   "metadata": {},
   "outputs": [
    {
     "data": {
      "text/plain": [
       "40969"
      ]
     },
     "execution_count": 12,
     "metadata": {},
     "output_type": "execute_result"
    }
   ],
   "source": [
    "len(df2)"
   ]
  },
  {
   "cell_type": "markdown",
   "metadata": {},
   "source": [
    "40969 offers remaining"
   ]
  },
  {
   "cell_type": "code",
   "execution_count": 13,
   "metadata": {},
   "outputs": [
    {
     "data": {
      "text/plain": [
       " £30,000 - £35,000 per annum                        633\n",
       " £25,000 - £30,000 per annum                        569\n",
       " £35,000 - £40,000 per annum                        488\n",
       " £20,000 - £25,000 per annum                        487\n",
       " £7.50 per hour                                     477\n",
       " £30,000 - £40,000 per annum                        468\n",
       " £40,000 - £45,000 per annum                        386\n",
       " £18,000 - £20,000 per annum                        371\n",
       " £40,000 - £50,000 per annum                        343\n",
       " £35,000 - £45,000 per annum                        343\n",
       " £25,000 - £35,000 per annum                        307\n",
       " £18,000 - £22,000 per annum                        290\n",
       " £45,000 - £50,000 per annum                        286\n",
       " £8.00 per hour                                     251\n",
       " £30,000 per annum                                  251\n",
       " £25,000 per annum                                  247\n",
       " £18,000 per annum                                  242\n",
       " £9.00 per hour                                     229\n",
       " £22,000 - £25,000 per annum                        227\n",
       " £20,000 per annum                                  225\n",
       " £50,000 - £60,000 per annum                        223\n",
       " £20,000 - £22,000 per annum                        215\n",
       " £45,000 - £55,000 per annum                        210\n",
       " £35,000 per annum                                  209\n",
       " £20,000 - £23,000 per annum                        191\n",
       " £18,000 - £23,000 per annum                        191\n",
       " £23,000 - £25,000 per annum                        189\n",
       " £28,000 - £30,000 per annum                        188\n",
       " £20,000 - £30,000 per annum                        187\n",
       " £18,000 - £25,000 per annum                        183\n",
       "                                                   ... \n",
       " £18,585 per annum                                    1\n",
       " £21.64 - £30.07 per hour                             1\n",
       " £45,000 - £70,000 per annum, inc benefits, OTE       1\n",
       " £17,000 - £18,000 per annum, negotiable, OTE         1\n",
       " £10.18 per hour                                      1\n",
       " £8.00 - £9.25 per hour                               1\n",
       " £8.70 - £17.40 per hour                              1\n",
       " £25,728 - £28,936 per annum                          1\n",
       " £21.12 per hour                                      1\n",
       " £19,500 - £35,000 per annum                          1\n",
       " £55.00 - £65.00 per day, inc benefits                1\n",
       " £20,979 - £30,000 per annum                          1\n",
       " £15,300 - £19,900 per annum                          1\n",
       " £7.75 - £10.00 per hour                              1\n",
       " £11.00 - £13.75 per hour                             1\n",
       " £8.00 - £8.80 per hour                               1\n",
       " £8.00 - £9.50 per hour, negotiable                   1\n",
       " £38,500 - £48,000 per annum                          1\n",
       " £23,445 - £28,167 per annum                          1\n",
       " £29,000 - £35,000 per annum, OTE                     1\n",
       " £17,755 - £20,195 per annum                          1\n",
       " £15,616 - £17,041 per annum                          1\n",
       " £9.47 per hour                                       1\n",
       " £44,500 - £48,000 per annum                          1\n",
       " £7.90 - £8.38 per hour                               1\n",
       " £7.50 - £12.50 per hour                              1\n",
       " £42,500 - £55,000 per annum                          1\n",
       " £8.50 - £9.30 per hour                               1\n",
       " £22,000 - £27,000 per annum, inc benefits, OTE       1\n",
       " £17,550 per annum                                    1\n",
       "Name: salary_offered, Length: 7242, dtype: int64"
      ]
     },
     "execution_count": 13,
     "metadata": {},
     "output_type": "execute_result"
    }
   ],
   "source": [
    "#Unique values and their count in the salary of the remaining offers \n",
    "df2.salary_offered.value_counts()"
   ]
  },
  {
   "cell_type": "markdown",
   "metadata": {},
   "source": [
    "We want to get a unique value of the salary for each offer (those values must be comparable), but we found that some of the offers have a range of values and the periodicity of the salaries varies across the offers (annum, day, hour).\n",
    "\n",
    "### Next we are going to process the salary variable to obtain a single annum value for each offer"
   ]
  },
  {
   "cell_type": "code",
   "execution_count": 14,
   "metadata": {},
   "outputs": [
    {
     "data": {
      "text/plain": [
       "40969"
      ]
     },
     "execution_count": 14,
     "metadata": {},
     "output_type": "execute_result"
    }
   ],
   "source": [
    "#Every offer contains the word per, this is key\n",
    "df2.salary_offered.str.contains(\"per\").sum()"
   ]
  },
  {
   "cell_type": "code",
   "execution_count": 15,
   "metadata": {},
   "outputs": [],
   "source": [
    "#df2.salary_offered.str.extract(r\"(per.*)\")[0].value_counts()"
   ]
  },
  {
   "cell_type": "code",
   "execution_count": 16,
   "metadata": {},
   "outputs": [],
   "source": [
    "#Splitting the original salary variable into min_salary, max_salary and periodicity\n",
    "salary_processing_df = df2.salary_offered.str.extract(\n",
    "    r\"(?P<min_salary>£.*)?(?P<max_salary>£.*)(?P<per>per )(?P<periodicity>annum|day|hour)\"\n",
    ").drop(columns=[\"per\"])"
   ]
  },
  {
   "cell_type": "code",
   "execution_count": 17,
   "metadata": {},
   "outputs": [],
   "source": [
    "#Converting from str to numerical\n",
    "salary_processing_df[\"min_salary\"] = salary_processing_df[\"min_salary\"].str.extract(r\"([0-9][0-9,\\.]*)\", expand=False).str.replace(',', '').astype(float)\n",
    "salary_processing_df[\"max_salary\"] = salary_processing_df[\"max_salary\"].str.extract(r\"([0-9][0-9,\\.]*)\", expand=False).str.replace(',', '').astype(float)"
   ]
  },
  {
   "cell_type": "code",
   "execution_count": 18,
   "metadata": {},
   "outputs": [],
   "source": [
    "#Calculating the annum avg salary\n",
    "#sources \n",
    "#working hours: https://clockify.me/working-hours\n",
    "#working days: https://hello-safe.co.uk/business-insurance/tools/working-days-calculator#:~:text=How%20many%20days%20are%20in,256%20working%20days\n",
    "uk_working_days = 256\n",
    "uk_working_hours = 1670\n",
    "\n",
    "def get_annum_avg_salary(row):\n",
    "    avg_salary = np.nanmean(np.array([row[\"min_salary\"], row[\"max_salary\"]]))\n",
    "    if row[\"periodicity\"] == \"day\":\n",
    "        avg_salary *= uk_working_days\n",
    "    if row[\"periodicity\"] == \"hour\":\n",
    "        avg_salary *= uk_working_hours\n",
    "    return avg_salary\n",
    "\n",
    "salary_processing_df[\"annum_avg_salary\"] = salary_processing_df.apply(get_annum_avg_salary, axis=1)"
   ]
  },
  {
   "cell_type": "code",
   "execution_count": 19,
   "metadata": {},
   "outputs": [
    {
     "data": {
      "text/html": [
       "<div>\n",
       "<style scoped>\n",
       "    .dataframe tbody tr th:only-of-type {\n",
       "        vertical-align: middle;\n",
       "    }\n",
       "\n",
       "    .dataframe tbody tr th {\n",
       "        vertical-align: top;\n",
       "    }\n",
       "\n",
       "    .dataframe thead th {\n",
       "        text-align: right;\n",
       "    }\n",
       "</style>\n",
       "<table border=\"1\" class=\"dataframe\">\n",
       "  <thead>\n",
       "    <tr style=\"text-align: right;\">\n",
       "      <th></th>\n",
       "      <th>category</th>\n",
       "      <th>city</th>\n",
       "      <th>company_name</th>\n",
       "      <th>geo</th>\n",
       "      <th>job_board</th>\n",
       "      <th>job_description</th>\n",
       "      <th>job_requirements</th>\n",
       "      <th>job_title</th>\n",
       "      <th>job_type</th>\n",
       "      <th>post_date</th>\n",
       "      <th>salary_offered</th>\n",
       "      <th>state</th>\n",
       "      <th>min_salary</th>\n",
       "      <th>max_salary</th>\n",
       "      <th>periodicity</th>\n",
       "      <th>annum_avg_salary</th>\n",
       "    </tr>\n",
       "  </thead>\n",
       "  <tbody>\n",
       "    <tr>\n",
       "      <th>0</th>\n",
       "      <td>catering jobs</td>\n",
       "      <td>Chudleigh</td>\n",
       "      <td>Haulfryn Group</td>\n",
       "      <td>uk</td>\n",
       "      <td>reed</td>\n",
       "      <td>Apply now New opportunity not to be missed! H...</td>\n",
       "      <td>NaN</td>\n",
       "      <td>Commis Chef</td>\n",
       "      <td>Permanent, full-time</td>\n",
       "      <td>3/12/2018</td>\n",
       "      <td>£18,323 per annum</td>\n",
       "      <td>Devon</td>\n",
       "      <td>NaN</td>\n",
       "      <td>18323.0</td>\n",
       "      <td>annum</td>\n",
       "      <td>18323.0</td>\n",
       "    </tr>\n",
       "    <tr>\n",
       "      <th>1</th>\n",
       "      <td>law jobs</td>\n",
       "      <td>Swindon</td>\n",
       "      <td>Reed</td>\n",
       "      <td>uk</td>\n",
       "      <td>reed</td>\n",
       "      <td>Apply now This role requires an experienced s...</td>\n",
       "      <td>NaN</td>\n",
       "      <td>Corporate Legal Secretary</td>\n",
       "      <td>Permanent, full-time</td>\n",
       "      <td>3/8/2018</td>\n",
       "      <td>£18,000 - £22,000 per annum</td>\n",
       "      <td>Wiltshire</td>\n",
       "      <td>18000.0</td>\n",
       "      <td>22000.0</td>\n",
       "      <td>annum</td>\n",
       "      <td>20000.0</td>\n",
       "    </tr>\n",
       "    <tr>\n",
       "      <th>2</th>\n",
       "      <td>law jobs</td>\n",
       "      <td>Hurstpierpoint</td>\n",
       "      <td>Castles Solicitors</td>\n",
       "      <td>uk</td>\n",
       "      <td>reed</td>\n",
       "      <td>Apply now Castles Solicitors are looking for ...</td>\n",
       "      <td>Required skills Admin Case Management Corresp...</td>\n",
       "      <td>Legal Secretary / Admin Assistant</td>\n",
       "      <td>Permanent, full-time or part-time</td>\n",
       "      <td>2/21/2018</td>\n",
       "      <td>£15,000 - £17,000 per annum, pro-rata</td>\n",
       "      <td>West Sussex</td>\n",
       "      <td>15000.0</td>\n",
       "      <td>17000.0</td>\n",
       "      <td>annum</td>\n",
       "      <td>16000.0</td>\n",
       "    </tr>\n",
       "    <tr>\n",
       "      <th>3</th>\n",
       "      <td>factory jobs</td>\n",
       "      <td>Hertfordshire</td>\n",
       "      <td>Marketplace Group</td>\n",
       "      <td>uk</td>\n",
       "      <td>reed</td>\n",
       "      <td>Apply now International Pharmaceutical Manufa...</td>\n",
       "      <td>NaN</td>\n",
       "      <td>Category Planner - Pharmaceutical</td>\n",
       "      <td>Permanent, full-time</td>\n",
       "      <td>3/1/2018</td>\n",
       "      <td>£37,000 - £45,000 per annum</td>\n",
       "      <td>South East England</td>\n",
       "      <td>37000.0</td>\n",
       "      <td>45000.0</td>\n",
       "      <td>annum</td>\n",
       "      <td>41000.0</td>\n",
       "    </tr>\n",
       "    <tr>\n",
       "      <th>4</th>\n",
       "      <td>retail jobs</td>\n",
       "      <td>Belfast</td>\n",
       "      <td>Vodafone</td>\n",
       "      <td>uk</td>\n",
       "      <td>reed</td>\n",
       "      <td>Apply on employer's website Retail Advisor - ...</td>\n",
       "      <td>NaN</td>\n",
       "      <td>Retail Adviser 20hrs/week - Belfast Donnegal P...</td>\n",
       "      <td>Permanent, part-time</td>\n",
       "      <td>3/12/2018</td>\n",
       "      <td>£9,100 - £9,152 per annum, OTE</td>\n",
       "      <td>County Antrim</td>\n",
       "      <td>9100.0</td>\n",
       "      <td>9152.0</td>\n",
       "      <td>annum</td>\n",
       "      <td>9126.0</td>\n",
       "    </tr>\n",
       "  </tbody>\n",
       "</table>\n",
       "</div>"
      ],
      "text/plain": [
       "        category            city         company_name geo job_board  \\\n",
       "0  catering jobs       Chudleigh      Haulfryn Group   uk      reed   \n",
       "1       law jobs         Swindon                Reed   uk      reed   \n",
       "2       law jobs  Hurstpierpoint  Castles Solicitors   uk      reed   \n",
       "3   factory jobs   Hertfordshire   Marketplace Group   uk      reed   \n",
       "4    retail jobs         Belfast            Vodafone   uk      reed   \n",
       "\n",
       "                                     job_description  \\\n",
       "0   Apply now New opportunity not to be missed! H...   \n",
       "1   Apply now This role requires an experienced s...   \n",
       "2   Apply now Castles Solicitors are looking for ...   \n",
       "3   Apply now International Pharmaceutical Manufa...   \n",
       "4   Apply on employer's website Retail Advisor - ...   \n",
       "\n",
       "                                    job_requirements  \\\n",
       "0                                                NaN   \n",
       "1                                                NaN   \n",
       "2   Required skills Admin Case Management Corresp...   \n",
       "3                                                NaN   \n",
       "4                                                NaN   \n",
       "\n",
       "                                           job_title  \\\n",
       "0                                        Commis Chef   \n",
       "1                          Corporate Legal Secretary   \n",
       "2                  Legal Secretary / Admin Assistant   \n",
       "3                  Category Planner - Pharmaceutical   \n",
       "4  Retail Adviser 20hrs/week - Belfast Donnegal P...   \n",
       "\n",
       "                            job_type  post_date  \\\n",
       "0               Permanent, full-time  3/12/2018   \n",
       "1               Permanent, full-time   3/8/2018   \n",
       "2  Permanent, full-time or part-time  2/21/2018   \n",
       "3               Permanent, full-time   3/1/2018   \n",
       "4               Permanent, part-time  3/12/2018   \n",
       "\n",
       "                            salary_offered               state  min_salary  \\\n",
       "0                       £18,323 per annum                Devon         NaN   \n",
       "1             £18,000 - £22,000 per annum            Wiltshire     18000.0   \n",
       "2   £15,000 - £17,000 per annum, pro-rata          West Sussex     15000.0   \n",
       "3             £37,000 - £45,000 per annum   South East England     37000.0   \n",
       "4          £9,100 - £9,152 per annum, OTE        County Antrim      9100.0   \n",
       "\n",
       "   max_salary periodicity  annum_avg_salary  \n",
       "0     18323.0       annum           18323.0  \n",
       "1     22000.0       annum           20000.0  \n",
       "2     17000.0       annum           16000.0  \n",
       "3     45000.0       annum           41000.0  \n",
       "4      9152.0       annum            9126.0  "
      ]
     },
     "execution_count": 19,
     "metadata": {},
     "output_type": "execute_result"
    }
   ],
   "source": [
    "#mergin the new values calculated and the original data\n",
    "df2 = pd.concat([df2, salary_processing_df], axis=1)\n",
    "df2.head()"
   ]
  },
  {
   "cell_type": "code",
   "execution_count": 20,
   "metadata": {},
   "outputs": [
    {
     "data": {
      "text/plain": [
       "<matplotlib.axes._subplots.AxesSubplot at 0x24c95a0b9b0>"
      ]
     },
     "execution_count": 20,
     "metadata": {},
     "output_type": "execute_result"
    },
    {
     "data": {
      "image/png": "[encoded data removed]",
      "text/plain": [
       "<Figure size 432x288 with 1 Axes>"
      ]
     },
     "metadata": {
      "needs_background": "light"
     },
     "output_type": "display_data"
    }
   ],
   "source": [
    "#Plotting the histogram of the annum average salary\n",
    "df2.annum_avg_salary.hist()"
   ]
  },
  {
   "cell_type": "code",
   "execution_count": 21,
   "metadata": {},
   "outputs": [
    {
     "data": {
      "text/plain": [
       "count       40969.000000\n",
       "mean        40014.862042\n",
       "std        614380.483834\n",
       "min             0.000000\n",
       "25%         19500.000000\n",
       "50%         27000.000000\n",
       "75%         37500.000000\n",
       "max      54275000.000000\n",
       "Name: annum_avg_salary, dtype: object"
      ]
     },
     "execution_count": 21,
     "metadata": {},
     "output_type": "execute_result"
    }
   ],
   "source": [
    "df2.annum_avg_salary.describe().apply(lambda x: format(x, 'f'))"
   ]
  },
  {
   "cell_type": "markdown",
   "metadata": {},
   "source": [
    "There are really huge values that seem wrong. This suggests some inconsistency in the data that we are going to verify in the next notebook \"2. Data cleaning\"."
   ]
  },
  {
   "cell_type": "markdown",
   "metadata": {},
   "source": [
    "#### Job description variable EDA"
   ]
  },
  {
   "cell_type": "code",
   "execution_count": 22,
   "metadata": {},
   "outputs": [],
   "source": [
    "import nltk\n",
    "import re\n",
    "from nltk.corpus import stopwords \n",
    "from nltk.tokenize import word_tokenize \n",
    "stop_words = set(stopwords.words('english')) \n",
    "from string import punctuation\n",
    "import collections"
   ]
  },
  {
   "cell_type": "markdown",
   "metadata": {},
   "source": [
    "General information about the length of the job descriptions"
   ]
  },
  {
   "cell_type": "code",
   "execution_count": 23,
   "metadata": {},
   "outputs": [],
   "source": [
    "description_lengths = df2.job_description.apply(lambda x: len(nltk.word_tokenize(x)))"
   ]
  },
  {
   "cell_type": "code",
   "execution_count": 24,
   "metadata": {},
   "outputs": [
    {
     "data": {
      "text/plain": [
       "count    40969.000000\n",
       "mean       312.937441\n",
       "std        154.156892\n",
       "min         17.000000\n",
       "25%        203.000000\n",
       "50%        288.000000\n",
       "75%        393.000000\n",
       "max       1125.000000\n",
       "Name: job_description, dtype: float64"
      ]
     },
     "execution_count": 24,
     "metadata": {},
     "output_type": "execute_result"
    }
   ],
   "source": [
    "description_lengths.describe()"
   ]
  },
  {
   "cell_type": "code",
   "execution_count": 26,
   "metadata": {},
   "outputs": [
    {
     "data": {
      "text/plain": [
       "<matplotlib.axes._subplots.AxesSubplot at 0x24ca1a178d0>"
      ]
     },
     "execution_count": 26,
     "metadata": {},
     "output_type": "execute_result"
    },
    {
     "data": {
      "image/png": "[encoded data removed]",
      "text/plain": [
       "<Figure size 432x288 with 1 Axes>"
      ]
     },
     "metadata": {
      "needs_background": "light"
     },
     "output_type": "display_data"
    }
   ],
   "source": [
    "description_lengths.hist()"
   ]
  },
  {
   "cell_type": "markdown",
   "metadata": {},
   "source": [
    "Text cleaning (removing stop words, punctuation signs, urls and numbers)"
   ]
  },
  {
   "cell_type": "code",
   "execution_count": 27,
   "metadata": {},
   "outputs": [
    {
     "name": "stderr",
     "output_type": "stream",
     "text": [
      "[nltk_data] Downloading package wordnet to\n",
      "[nltk_data]     C:\\Users\\PC\\AppData\\Roaming\\nltk_data...\n",
      "[nltk_data]   Package wordnet is already up-to-date!\n"
     ]
    }
   ],
   "source": [
    "from nltk.corpus import stopwords\n",
    "nltk.download('wordnet')\n",
    "stop_words = set(stopwords.words('english')) \n",
    "\n",
    "def text_to_clean_words(text):\n",
    "    text = text.lower()\n",
    "    # Removing numbers, *** and www links from the data\n",
    "    text = re.sub('[0-9]+\\s+|\\s\\d+\\s|\\w+[0-9]+|www\\.[^\\s]+','',text)\n",
    "    # Removing punctuation\n",
    "    for p in punctuation:\n",
    "        text = text.replace(p,'')\n",
    "    word_tokens = nltk.word_tokenize(text)\n",
    "\n",
    "    ## Removing the stopwords\n",
    "    words_clean = [each for each in word_tokens if each not in stop_words and len(each) > 2]\n",
    "    return words_clean"
   ]
  },
  {
   "cell_type": "code",
   "execution_count": 28,
   "metadata": {},
   "outputs": [],
   "source": [
    "clean_job_description_tokens = df2.iloc[:,:].job_description.apply(text_to_clean_words)"
   ]
  },
  {
   "cell_type": "code",
   "execution_count": 29,
   "metadata": {},
   "outputs": [],
   "source": [
    "l = list(clean_job_description_tokens)\n",
    "l1 = [item for sublist in l for item in sublist]"
   ]
  },
  {
   "cell_type": "markdown",
   "metadata": {},
   "source": [
    "Next, let's see the top word in the job descriptions"
   ]
  },
  {
   "cell_type": "code",
   "execution_count": 30,
   "metadata": {
    "scrolled": false
   },
   "outputs": [
    {
     "data": {
      "text/html": [
       "<div>\n",
       "<style scoped>\n",
       "    .dataframe tbody tr th:only-of-type {\n",
       "        vertical-align: middle;\n",
       "    }\n",
       "\n",
       "    .dataframe tbody tr th {\n",
       "        vertical-align: top;\n",
       "    }\n",
       "\n",
       "    .dataframe thead th {\n",
       "        text-align: right;\n",
       "    }\n",
       "</style>\n",
       "<table border=\"1\" class=\"dataframe\">\n",
       "  <thead>\n",
       "    <tr style=\"text-align: right;\">\n",
       "      <th></th>\n",
       "      <th>words</th>\n",
       "      <th>freq</th>\n",
       "    </tr>\n",
       "  </thead>\n",
       "  <tbody>\n",
       "    <tr>\n",
       "      <th>0</th>\n",
       "      <td>apply</td>\n",
       "      <td>61354</td>\n",
       "    </tr>\n",
       "    <tr>\n",
       "      <th>21</th>\n",
       "      <td>experience</td>\n",
       "      <td>59980</td>\n",
       "    </tr>\n",
       "    <tr>\n",
       "      <th>147</th>\n",
       "      <td>recruitment</td>\n",
       "      <td>58309</td>\n",
       "    </tr>\n",
       "    <tr>\n",
       "      <th>109</th>\n",
       "      <td>role</td>\n",
       "      <td>58146</td>\n",
       "    </tr>\n",
       "    <tr>\n",
       "      <th>141</th>\n",
       "      <td>work</td>\n",
       "      <td>55879</td>\n",
       "    </tr>\n",
       "    <tr>\n",
       "      <th>11</th>\n",
       "      <td>team</td>\n",
       "      <td>53934</td>\n",
       "    </tr>\n",
       "    <tr>\n",
       "      <th>263</th>\n",
       "      <td>business</td>\n",
       "      <td>45647</td>\n",
       "    </tr>\n",
       "    <tr>\n",
       "      <th>25</th>\n",
       "      <td>working</td>\n",
       "      <td>45450</td>\n",
       "    </tr>\n",
       "    <tr>\n",
       "      <th>253</th>\n",
       "      <td>within</td>\n",
       "      <td>36484</td>\n",
       "    </tr>\n",
       "    <tr>\n",
       "      <th>38</th>\n",
       "      <td>looking</td>\n",
       "      <td>35339</td>\n",
       "    </tr>\n",
       "  </tbody>\n",
       "</table>\n",
       "</div>"
      ],
      "text/plain": [
       "           words   freq\n",
       "0          apply  61354\n",
       "21    experience  59980\n",
       "147  recruitment  58309\n",
       "109         role  58146\n",
       "141         work  55879\n",
       "11          team  53934\n",
       "263     business  45647\n",
       "25       working  45450\n",
       "253       within  36484\n",
       "38       looking  35339"
      ]
     },
     "metadata": {},
     "output_type": "display_data"
    }
   ],
   "source": [
    "word_freq_lem = dict(collections.Counter(l1))\n",
    "keys = list(word_freq_lem.keys())\n",
    "values = list(word_freq_lem.values())\n",
    "df_lem = pd.DataFrame({'words':keys,'freq':values})\n",
    "display(df_lem.sort_values(by = 'freq',ascending = False)[:10])\n"
   ]
  },
  {
   "cell_type": "markdown",
   "metadata": {},
   "source": [
    "Now let's see the top word in the top 20% salaries descriptions"
   ]
  },
  {
   "cell_type": "code",
   "execution_count": 31,
   "metadata": {},
   "outputs": [],
   "source": [
    "df3 = df2[df2.annum_avg_salary > df2.annum_avg_salary.quantile(0.80)]"
   ]
  },
  {
   "cell_type": "code",
   "execution_count": 32,
   "metadata": {},
   "outputs": [
    {
     "data": {
      "text/html": [
       "<div>\n",
       "<style scoped>\n",
       "    .dataframe tbody tr th:only-of-type {\n",
       "        vertical-align: middle;\n",
       "    }\n",
       "\n",
       "    .dataframe tbody tr th {\n",
       "        vertical-align: top;\n",
       "    }\n",
       "\n",
       "    .dataframe thead th {\n",
       "        text-align: right;\n",
       "    }\n",
       "</style>\n",
       "<table border=\"1\" class=\"dataframe\">\n",
       "  <thead>\n",
       "    <tr style=\"text-align: right;\">\n",
       "      <th></th>\n",
       "      <th>words</th>\n",
       "      <th>freq</th>\n",
       "    </tr>\n",
       "  </thead>\n",
       "  <tbody>\n",
       "    <tr>\n",
       "      <th>188</th>\n",
       "      <td>experience</td>\n",
       "      <td>14259</td>\n",
       "    </tr>\n",
       "    <tr>\n",
       "      <th>166</th>\n",
       "      <td>business</td>\n",
       "      <td>14080</td>\n",
       "    </tr>\n",
       "    <tr>\n",
       "      <th>28</th>\n",
       "      <td>role</td>\n",
       "      <td>12343</td>\n",
       "    </tr>\n",
       "    <tr>\n",
       "      <th>0</th>\n",
       "      <td>apply</td>\n",
       "      <td>11786</td>\n",
       "    </tr>\n",
       "    <tr>\n",
       "      <th>160</th>\n",
       "      <td>team</td>\n",
       "      <td>11550</td>\n",
       "    </tr>\n",
       "    <tr>\n",
       "      <th>352</th>\n",
       "      <td>recruitment</td>\n",
       "      <td>10169</td>\n",
       "    </tr>\n",
       "    <tr>\n",
       "      <th>232</th>\n",
       "      <td>management</td>\n",
       "      <td>9746</td>\n",
       "    </tr>\n",
       "    <tr>\n",
       "      <th>70</th>\n",
       "      <td>work</td>\n",
       "      <td>9453</td>\n",
       "    </tr>\n",
       "    <tr>\n",
       "      <th>61</th>\n",
       "      <td>working</td>\n",
       "      <td>8977</td>\n",
       "    </tr>\n",
       "    <tr>\n",
       "      <th>16</th>\n",
       "      <td>within</td>\n",
       "      <td>8283</td>\n",
       "    </tr>\n",
       "  </tbody>\n",
       "</table>\n",
       "</div>"
      ],
      "text/plain": [
       "           words   freq\n",
       "188   experience  14259\n",
       "166     business  14080\n",
       "28          role  12343\n",
       "0          apply  11786\n",
       "160         team  11550\n",
       "352  recruitment  10169\n",
       "232   management   9746\n",
       "70          work   9453\n",
       "61       working   8977\n",
       "16        within   8283"
      ]
     },
     "metadata": {},
     "output_type": "display_data"
    }
   ],
   "source": [
    "clean_job_description_tokens = df3.iloc[:,:].job_description.apply(text_to_clean_words)\n",
    "l = list(clean_job_description_tokens)\n",
    "l1 = [item for sublist in l for item in sublist]\n",
    "word_freq_lem = dict(collections.Counter(l1))\n",
    "keys = list(word_freq_lem.keys())\n",
    "values = list(word_freq_lem.values())\n",
    "df_lem = pd.DataFrame({'words':keys,'freq':values})\n",
    "display(df_lem.sort_values(by = 'freq',ascending = False)[:10])"
   ]
  },
  {
   "cell_type": "code",
   "execution_count": 228,
   "metadata": {},
   "outputs": [],
   "source": [
    "df2.to_csv(\"data/reed_uk_v2.csv\", index=False)"
   ]
  }
 ],
 "metadata": {
  "kernelspec": {
   "display_name": "Python 3",
   "language": "python",
   "name": "python3"
  },
  "language_info": {
   "codemirror_mode": {
    "name": "ipython",
    "version": 3
   },
   "file_extension": ".py",
   "mimetype": "text/x-python",
   "name": "python",
   "nbconvert_exporter": "python",
   "pygments_lexer": "ipython3",
   "version": "3.7.3"
  }
 },
 "nbformat": 4,
 "nbformat_minor": 4
}
